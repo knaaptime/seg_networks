{
 "cells": [
  {
   "cell_type": "markdown",
   "id": "42ad646e-af6e-4cd4-9fc8-56bf65d4bf98",
   "metadata": {},
   "source": [
    "This is still very much rough draft. The dependent variable is the difference in segregation when measured in euclidean dist versus network dist. There are a couple strategies we could take:\n",
    "\n",
    "how to measure difference:\n",
    "\n",
    "- raw difference\n",
    "- percent difference \n",
    "\n",
    "how to model:\n",
    "\n",
    "- take the whole dataset and regress seg difference on network measures\n",
    "- take subset of significant results and regress\n",
    "- take whole dataset and use logistic regression to see which metrics result in a significant difference\n",
    "\n",
    "not necessarily mututally exclusive..."
   ]
  },
  {
   "cell_type": "markdown",
   "id": "38602223-72d9-45ba-905d-9d572609ea75",
   "metadata": {},
   "source": [
    "to finish the modeling, we also need some additional variables, \n",
    "\n",
    "- pop density\n",
    "- total land/water area\n",
    "- nonwhite population\n",
    "- total population\n",
    "- share of metro thats urbanized?\n",
    "\n",
    "also right now the network density measures use crude total area of the metro. Probably want to limit to land area or developed area"
   ]
  },
  {
   "cell_type": "code",
   "execution_count": null,
   "id": "d6cb9555-11a1-4632-b5c3-f3a11841e5aa",
   "metadata": {
    "tags": []
   },
   "outputs": [],
   "source": [
    "%load_ext autoreload\n",
    "%autoreload 2"
   ]
  },
  {
   "cell_type": "code",
   "execution_count": null,
   "id": "12b0846e-6465-4cb5-aff5-3f6e1d307c09",
   "metadata": {},
   "outputs": [],
   "source": []
  },
  {
   "cell_type": "code",
   "execution_count": null,
   "id": "2eee15bb-9f0e-4c59-8f3a-4d46ea67400a",
   "metadata": {
    "tags": []
   },
   "outputs": [],
   "source": [
    "import statsmodels.formula.api as smf\n",
    "import pandas as pd\n",
    "import os\n",
    "import numpy as np"
   ]
  },
  {
   "cell_type": "code",
   "execution_count": null,
   "id": "3937e8cb-afce-4474-8c61-0a571e3bfbe4",
   "metadata": {
    "tags": []
   },
   "outputs": [],
   "source": [
    "files = [fn for fn in os.listdir(\"../data/metrics/\") if fn.endswith(\"measures.csv\")]"
   ]
  },
  {
   "cell_type": "code",
   "execution_count": null,
   "id": "f2f250cb-f39b-416e-9ebb-4b0b8d0dac82",
   "metadata": {
    "tags": []
   },
   "outputs": [],
   "source": [
    "dfs = []\n",
    "\n",
    "for file in files:\n",
    "\n",
    "    fips = file.split('_')[0]\n",
    "\n",
    "    df = pd.read_csv(f\"../data/metrics/{file}\")\n",
    "    df['msa'] = fips\n",
    "    df['node_props_dead_end'] = df.streets_per_node_proportions.iloc[1]\n",
    "    df['node_props_3way'] = df.streets_per_node_proportions.iloc[3]\n",
    "    df['node_props_4way'] = df.streets_per_node_proportions.iloc[4]\n",
    "    \n",
    "    # I think these \"node proportion\" measures are equivalent to \"degree\" in network science. I think they're gonna be critical but not 10)% on\n",
    "    # how to operationalize them... do we need each? aggregate >4?, etc.\n",
    "    \n",
    "    df = df.groupby('msa').first()\n",
    "    df = df.drop(columns=['streets_per_node_proportions', 'streets_per_node_counts', 'Unnamed: 0'])\n",
    "    dfs.append(df)\n",
    "    df = pd.concat(dfs).reset_index()"
   ]
  },
  {
   "cell_type": "code",
   "execution_count": null,
   "id": "0795ca44-3091-4768-a3d2-6e163431aafa",
   "metadata": {
    "tags": []
   },
   "outputs": [],
   "source": [
    "df = pd.concat(dfs)"
   ]
  },
  {
   "cell_type": "code",
   "execution_count": null,
   "id": "bbbb6456-83e5-4ae4-8128-8d08bc5e545a",
   "metadata": {
    "tags": []
   },
   "outputs": [],
   "source": [
    "#df.seg_difference.hist()"
   ]
  },
  {
   "cell_type": "code",
   "execution_count": null,
   "id": "553a23f1-439a-4900-a7f7-39b5f669efa7",
   "metadata": {
    "tags": []
   },
   "outputs": [],
   "source": [
    "seg_diffs = pd.read_csv(\"../data/network_comparison.csv\")"
   ]
  },
  {
   "cell_type": "code",
   "execution_count": null,
   "id": "cdc8516f-0877-446b-a4f6-cb90aaf259da",
   "metadata": {
    "tags": []
   },
   "outputs": [],
   "source": [
    "seg_diffs.fips = seg_diffs.fips.astype(str)"
   ]
  },
  {
   "cell_type": "code",
   "execution_count": null,
   "id": "a2bdce72-6ee0-46e1-9231-434d50a18a1e",
   "metadata": {
    "tags": []
   },
   "outputs": [],
   "source": [
    "df = df.merge(seg_diffs, left_index=True, right_on='fips', how='inner')"
   ]
  },
  {
   "cell_type": "code",
   "execution_count": null,
   "id": "f57c79e7-6beb-4b73-981d-16e135bf70a2",
   "metadata": {},
   "outputs": [],
   "source": [
    "df.shape"
   ]
  },
  {
   "cell_type": "code",
   "execution_count": null,
   "id": "4de32e91-1861-4a27-9dd6-b1fd665be256",
   "metadata": {
    "tags": []
   },
   "outputs": [],
   "source": [
    "df.node_props_dead_end.hist()"
   ]
  },
  {
   "cell_type": "code",
   "execution_count": null,
   "id": "eb9361e3-5ff2-4887-aa24-953554fc6ccf",
   "metadata": {
    "tags": []
   },
   "outputs": [],
   "source": [
    "df.circuity_avg.apply(np.log).hist()"
   ]
  },
  {
   "cell_type": "code",
   "execution_count": null,
   "id": "f93cbfff-c20f-45bb-9865-e250531ae9aa",
   "metadata": {
    "tags": []
   },
   "outputs": [],
   "source": [
    "import seaborn as sns"
   ]
  },
  {
   "cell_type": "code",
   "execution_count": null,
   "id": "04e8a255-4d7d-4a21-953a-28428367ad86",
   "metadata": {
    "tags": []
   },
   "outputs": [],
   "source": [
    "df['pct_diff'] = (df.seg_difference / df.planar_measure) * 100"
   ]
  },
  {
   "cell_type": "code",
   "execution_count": null,
   "id": "3cdea2b9-d930-4101-bb9e-e1e9e4e38dde",
   "metadata": {
    "tags": []
   },
   "outputs": [],
   "source": [
    "df.loc[df.p_value <= 0.050, \"significant\"] = 1\n",
    "df.significant=df.significant.fillna(0)"
   ]
  },
  {
   "cell_type": "code",
   "execution_count": null,
   "id": "387c39c1-1477-4a58-850d-1415ad01be17",
   "metadata": {
    "tags": []
   },
   "outputs": [],
   "source": [
    "df.pct_diff.hist()"
   ]
  },
  {
   "cell_type": "code",
   "execution_count": null,
   "id": "c6461799-2dcb-4f6f-a845-c29e0bd1294d",
   "metadata": {
    "tags": []
   },
   "outputs": [],
   "source": [
    "df = df.drop(columns=['Unnamed: 0']).set_index('name')"
   ]
  },
  {
   "cell_type": "code",
   "execution_count": null,
   "id": "40ee8c8a-7722-4f1a-a038-616d4cdfaa6a",
   "metadata": {
    "tags": []
   },
   "outputs": [],
   "source": [
    "df"
   ]
  },
  {
   "cell_type": "code",
   "execution_count": null,
   "id": "3eb5adfa-bc49-4c94-a8a1-9094a2eeb997",
   "metadata": {
    "tags": []
   },
   "outputs": [],
   "source": [
    "df_sub = df[df.p_value<=0.05]"
   ]
  },
  {
   "cell_type": "code",
   "execution_count": null,
   "id": "371fc536-760a-4c36-9b5b-35b4cf955c37",
   "metadata": {
    "tags": []
   },
   "outputs": [],
   "source": []
  },
  {
   "cell_type": "code",
   "execution_count": null,
   "id": "056c938e-4feb-47b0-946d-cd9d05cd5699",
   "metadata": {
    "tags": []
   },
   "outputs": [],
   "source": [
    "df.pct_diff.hist()"
   ]
  },
  {
   "cell_type": "code",
   "execution_count": null,
   "id": "d6a6343a-be7b-4903-a15e-1117e5649302",
   "metadata": {
    "tags": []
   },
   "outputs": [],
   "source": [
    "import matplotlib.pyplot as plt"
   ]
  },
  {
   "cell_type": "code",
   "execution_count": null,
   "id": "c6612d8f-5f55-4d36-90aa-8496998aae81",
   "metadata": {
    "tags": []
   },
   "outputs": [],
   "source": [
    "df.columns"
   ]
  },
  {
   "cell_type": "code",
   "execution_count": null,
   "id": "af245ffe-6d8e-4cbf-8694-25e9f08f4f6b",
   "metadata": {
    "tags": []
   },
   "outputs": [],
   "source": [
    "features = ['n', 'm', 'k_avg', 'edge_length_total', 'edge_length_avg',\n",
    "       'streets_per_node_avg', 'intersection_count', 'street_length_total',\n",
    "       'street_segment_count', 'street_length_avg', 'circuity_avg',\n",
    "       'self_loop_proportion', 'node_density_km', 'intersection_density_km',\n",
    "       'edge_density_km', 'street_density_km', 'node_props_dead_end',\n",
    "       'node_props_3way', 'node_props_4way']"
   ]
  },
  {
   "cell_type": "code",
   "execution_count": null,
   "id": "72c6acb6-a0a3-4690-bdc1-0d8f07333636",
   "metadata": {},
   "outputs": [],
   "source": []
  },
  {
   "cell_type": "code",
   "execution_count": null,
   "id": "3ad6ee7a-afc7-4c21-8809-669358827049",
   "metadata": {
    "tags": []
   },
   "outputs": [],
   "source": [
    "form = (\"seg_difference ~ 1 + np.log(n) + np.log(m) +  + np.log(edge_length_avg) + streets_per_node_avg +\" \n",
    "         \"np.log(street_segment_count) + np.log(circuity_avg) + self_loop_proportion +\"\n",
    "        \"np.log(intersection_density_km) + np.log(edge_density_km) + np.log(street_density_km) + node_props_dead_end \")\n",
    "\n",
    "model = smf.ols(form, df).fit()"
   ]
  },
  {
   "cell_type": "code",
   "execution_count": null,
   "id": "f453544c-1798-4c19-8988-6544219e0fb2",
   "metadata": {
    "tags": []
   },
   "outputs": [],
   "source": [
    "model_subset = smf.ols(form, df_sub).fit()"
   ]
  },
  {
   "cell_type": "code",
   "execution_count": null,
   "id": "8afa4160-59c3-4199-b768-9787047c88f2",
   "metadata": {
    "tags": []
   },
   "outputs": [],
   "source": [
    "smf.glm?"
   ]
  },
  {
   "cell_type": "code",
   "execution_count": null,
   "id": "0beb2b4c-c46c-4d1c-960e-124564848066",
   "metadata": {},
   "outputs": [],
   "source": [
    "import statsmodels.api as sm"
   ]
  },
  {
   "cell_type": "code",
   "execution_count": null,
   "id": "52708671-1c11-4eaa-ad84-0d888ea8647e",
   "metadata": {
    "tags": []
   },
   "outputs": [],
   "source": [
    "model_log = smf.glm(\"significant ~ 1 + np.log(n) + np.log(m) +  + np.log(edge_length_avg) + streets_per_node_avg +\" \n",
    "         \"np.log(street_segment_count) + np.log(circuity_avg) + self_loop_proportion +\"\n",
    "        \"np.log(intersection_density_km) + np.log(edge_density_km) + np.log(street_density_km) + node_props_dead_end \", df, family=sm.families.Binomial()).fit()"
   ]
  },
  {
   "cell_type": "code",
   "execution_count": null,
   "id": "813d4ee7-dc16-432a-b485-4630de8197e2",
   "metadata": {
    "tags": []
   },
   "outputs": [],
   "source": [
    "model.summary()"
   ]
  },
  {
   "cell_type": "code",
   "execution_count": null,
   "id": "bab7b15f-21b3-4691-9453-64f7748178e4",
   "metadata": {
    "tags": []
   },
   "outputs": [],
   "source": [
    "print(model_subset.summary())"
   ]
  },
  {
   "cell_type": "code",
   "execution_count": null,
   "id": "5e1c5528-5098-49a4-8e3c-425ca3063b6b",
   "metadata": {
    "tags": []
   },
   "outputs": [],
   "source": [
    "model_log.summary()"
   ]
  },
  {
   "cell_type": "code",
   "execution_count": null,
   "id": "26c6d049-ad24-4032-b821-b0c247fc0411",
   "metadata": {},
   "outputs": [],
   "source": [
    "model_log.resid_pearson"
   ]
  },
  {
   "cell_type": "code",
   "execution_count": null,
   "id": "57612408-f65e-49cb-971d-3f7993f41167",
   "metadata": {
    "tags": []
   },
   "outputs": [],
   "source": [
    "sns.set_context('notebook')"
   ]
  },
  {
   "cell_type": "code",
   "execution_count": null,
   "id": "d20a1ae8-62ce-48b3-9ff1-0b848aa09cb0",
   "metadata": {
    "tags": []
   },
   "outputs": [],
   "source": [
    "import matplotlib.pyplot as plt"
   ]
  },
  {
   "cell_type": "code",
   "execution_count": null,
   "id": "e2fc6bc7-ad1a-479e-b86f-010ea899be93",
   "metadata": {
    "tags": []
   },
   "outputs": [],
   "source": [
    "diagnostic = pd.DataFrame({'predicted':model_log.mu, 'actual':df.pct_diff, 'resid':model_log.resid_pearson})"
   ]
  },
  {
   "cell_type": "code",
   "execution_count": null,
   "id": "ff10a927-350d-4073-b299-efe6cb1549ed",
   "metadata": {
    "tags": []
   },
   "outputs": [],
   "source": [
    "diagnostic.plot(kind='scatter', x='predicted', y='actual')"
   ]
  },
  {
   "cell_type": "code",
   "execution_count": null,
   "id": "601625de-7a1e-4294-923a-efaa8e129b43",
   "metadata": {
    "tags": []
   },
   "outputs": [],
   "source": [
    "df.iloc[2]"
   ]
  },
  {
   "cell_type": "code",
   "execution_count": null,
   "id": "4da6f0f1-88cb-40cf-afa2-fab249a2c9f6",
   "metadata": {},
   "outputs": [],
   "source": []
  },
  {
   "cell_type": "code",
   "execution_count": null,
   "id": "2935383a-59dd-44ec-a888-729331305508",
   "metadata": {
    "tags": []
   },
   "outputs": [],
   "source": [
    "from seg_networks import Linear_Reg_Diagnostic"
   ]
  },
  {
   "cell_type": "code",
   "execution_count": null,
   "id": "15833e9a-f98b-451c-9d59-d4522adfdd39",
   "metadata": {
    "tags": []
   },
   "outputs": [],
   "source": [
    "diag_plots = Linear_Reg_Diagnostic(model)"
   ]
  },
  {
   "cell_type": "code",
   "execution_count": null,
   "id": "f87b4b1f-80c4-4b54-944f-1a3c5e87da61",
   "metadata": {
    "tags": []
   },
   "outputs": [],
   "source": [
    "diag_plots()"
   ]
  },
  {
   "cell_type": "code",
   "execution_count": null,
   "id": "2b08f2c6-c9a7-44a6-850b-e52adb138fb4",
   "metadata": {
    "tags": []
   },
   "outputs": [],
   "source": [
    "diag_plots.vif_table().head()"
   ]
  },
  {
   "cell_type": "code",
   "execution_count": null,
   "id": "e1630518-6afb-451c-b355-b3aa8d4d1fcd",
   "metadata": {
    "tags": []
   },
   "outputs": [],
   "source": [
    "df"
   ]
  },
  {
   "cell_type": "code",
   "execution_count": null,
   "id": "f78139af-cfc2-4b53-86ec-2061d8be520a",
   "metadata": {
    "tags": []
   },
   "outputs": [],
   "source": [
    "df.corr()"
   ]
  },
  {
   "cell_type": "code",
   "execution_count": null,
   "id": "22505041-f382-4c28-b886-84a46d2a11be",
   "metadata": {},
   "outputs": [],
   "source": [
    "cmat = df.corr()"
   ]
  },
  {
   "cell_type": "code",
   "execution_count": null,
   "id": "57b3eab8-44e9-4bea-a7fe-a3dcb8c414fd",
   "metadata": {},
   "outputs": [],
   "source": [
    "cmat.pct_diff\n"
   ]
  },
  {
   "cell_type": "code",
   "execution_count": null,
   "id": "4dbf7c3c-ebe7-47fb-8ea9-c8e924320c75",
   "metadata": {},
   "outputs": [],
   "source": [
    "cmat.planar_measure"
   ]
  },
  {
   "cell_type": "code",
   "execution_count": null,
   "id": "71732810-ff96-4a91-b8f9-358d601a7bd5",
   "metadata": {},
   "outputs": [],
   "source": [
    "cmat.network_measure"
   ]
  },
  {
   "cell_type": "code",
   "execution_count": null,
   "id": "59c1fa47-87f5-477b-996d-8914b746d9df",
   "metadata": {},
   "outputs": [],
   "source": [
    "import seaborn as sns"
   ]
  },
  {
   "cell_type": "code",
   "execution_count": null,
   "id": "1871ad7f-8dd8-4231-a2b6-19bfa41f329f",
   "metadata": {},
   "outputs": [],
   "source": [
    "sns.displot(df, x='network_measure', y='seg_difference')"
   ]
  },
  {
   "cell_type": "code",
   "execution_count": null,
   "id": "fc0678ed-1a5f-441f-9cbb-5dfd00e63aa4",
   "metadata": {},
   "outputs": [],
   "source": [
    "sns.displot(df, x='network_measure', y='pct_diff')"
   ]
  },
  {
   "cell_type": "code",
   "execution_count": null,
   "id": "095a2102-d61e-466a-9685-4e7ca15202b3",
   "metadata": {},
   "outputs": [],
   "source": [
    "g = sns.lmplot(x='network_measure', y='pct_diff', data=df)"
   ]
  },
  {
   "cell_type": "code",
   "execution_count": null,
   "id": "0ce2458d-6f60-44a4-a7d3-f4b977318b4d",
   "metadata": {},
   "outputs": [],
   "source": [
    "g = sns.lmplot(x='planar_measure', y='network_measure', data=df)"
   ]
  },
  {
   "cell_type": "code",
   "execution_count": null,
   "id": "4f67d9dd-1342-4f2a-b570-90059daf7dcc",
   "metadata": {},
   "outputs": [],
   "source": [
    "g = sns.lmplot(x='planar_measure', y='network_measure', data=df)\n",
    "x0, x1 = g.ax.get_xlim()\n",
    "y0, y1 = g.ax.get_ylim()\n",
    "lims = [max(x0, y0), min(x1, y1)]\n",
    "g.ax.plot(lims, lims, '--r');\n",
    "plt.savefig(\"../paper/figures/scatter.png\", dpi=600)"
   ]
  },
  {
   "cell_type": "code",
   "execution_count": null,
   "id": "6ffab81b-86e8-459c-86ff-640f980ebc85",
   "metadata": {},
   "outputs": [],
   "source": [
    "g = sns.lmplot(x='n', y='pct_diff', data=df)"
   ]
  },
  {
   "cell_type": "code",
   "execution_count": null,
   "id": "c74f205e-692c-4d32-8e1e-f8e238c43b3c",
   "metadata": {},
   "outputs": [],
   "source": [
    "g = sns.lmplot(x='street_length_total', y='pct_diff', data=df)"
   ]
  },
  {
   "cell_type": "code",
   "execution_count": null,
   "id": "a592fd25-c32f-405c-8c72-4fe513b17746",
   "metadata": {},
   "outputs": [],
   "source": [
    "g = sns.lmplot(x='n', y='street_length_total', data=df)"
   ]
  },
  {
   "cell_type": "code",
   "execution_count": null,
   "id": "46d9c435-ad14-4548-a681-9a10fbc4b3ab",
   "metadata": {},
   "outputs": [],
   "source": [
    "import statsmodels.formula.api as smf"
   ]
  },
  {
   "cell_type": "code",
   "execution_count": null,
   "id": "5541420f-5755-4ab8-8346-fa7cc44e10fc",
   "metadata": {},
   "outputs": [],
   "source": [
    "results = smf.ols(\"pct_diff ~ n\", data=df).fit()\n",
    "\n",
    "print(results.summary())"
   ]
  },
  {
   "cell_type": "code",
   "execution_count": null,
   "id": "b8a721b5-888d-41f8-b0d5-eba0b3e133bd",
   "metadata": {},
   "outputs": [],
   "source": [
    "results = smf.ols(\"pct_diff ~ n + planar_measure\", data=df).fit()\n",
    "\n",
    "print(results.summary())"
   ]
  },
  {
   "cell_type": "code",
   "execution_count": null,
   "id": "0bb57ffb-06c6-4dc2-bf0c-74d4752e5bb5",
   "metadata": {},
   "outputs": [],
   "source": [
    "results = smf.ols(\"pct_diff ~ n + planar_measure + significant\", data=df).fit()\n",
    "\n",
    "print(results.summary())"
   ]
  },
  {
   "cell_type": "code",
   "execution_count": null,
   "id": "0561919d-98f2-4c95-bddf-8cd1f1d6f583",
   "metadata": {},
   "outputs": [],
   "source": [
    "g = sns.lmplot(data=df, x='planar_measure', y='pct_diff', hue='significant')"
   ]
  },
  {
   "cell_type": "code",
   "execution_count": null,
   "id": "94313fc7-fd8d-4f41-8143-063f3735c48b",
   "metadata": {},
   "outputs": [],
   "source": [
    "g = sns.lmplot(data=df, x='n', y='pct_diff', hue='significant')"
   ]
  },
  {
   "cell_type": "code",
   "execution_count": null,
   "id": "16feb8e5-e21c-4563-898b-1c84dc146ca4",
   "metadata": {},
   "outputs": [],
   "source": [
    "g = sns.lmplot(data=df, x='circuity_avg', y='pct_diff', hue='significant')"
   ]
  },
  {
   "cell_type": "code",
   "execution_count": null,
   "id": "64c6113f-5ad0-44aa-bd1c-3a23487965a2",
   "metadata": {},
   "outputs": [],
   "source": [
    "results = smf.ols(\"pct_diff ~ n + planar_measure + significant + circuity_avg\", data=df).fit()\n",
    "\n",
    "print(results.summary())"
   ]
  },
  {
   "cell_type": "code",
   "execution_count": null,
   "id": "dfecefd3-dcb2-442f-932f-e26e4e2506f1",
   "metadata": {},
   "outputs": [],
   "source": [
    "results = smf.ols(\"pct_diff ~ n + planar_measure + significant + circuity_avg\", data=df).fit()\n",
    "\n",
    "print(results.summary())"
   ]
  },
  {
   "cell_type": "code",
   "execution_count": null,
   "id": "fbccdd80-f317-48ac-b6f4-c013925409af",
   "metadata": {},
   "outputs": [],
   "source": [
    "results = smf.ols(\"pct_diff ~ n + planar_measure + circuity_avg\", data=df).fit()\n",
    "\n",
    "print(results.summary())"
   ]
  },
  {
   "cell_type": "code",
   "execution_count": null,
   "id": "a2336d00-4798-4cd1-a0da-f30b9e3b16ff",
   "metadata": {},
   "outputs": [],
   "source": [
    "results = smf.ols(\"planar_measure ~ n + circuity_avg\", data=df).fit()\n",
    "\n",
    "print(results.summary())"
   ]
  },
  {
   "cell_type": "code",
   "execution_count": null,
   "id": "ae22ec73-3c58-46aa-a408-8e32cf72fefd",
   "metadata": {},
   "outputs": [],
   "source": [
    "results = smf.ols(\"network_measure ~ n + circuity_avg\", data=df).fit()\n",
    "\n",
    "print(results.summary())"
   ]
  },
  {
   "cell_type": "code",
   "execution_count": null,
   "id": "6a86a027-0994-41e1-84d8-fe1682f6ea14",
   "metadata": {},
   "outputs": [],
   "source": [
    "g = sns.lmplot(data=df, x='planar_measure', y='network_measure', hue='significant')"
   ]
  },
  {
   "cell_type": "code",
   "execution_count": null,
   "id": "4b00c69d-9b6d-474a-8c4c-758c413c1547",
   "metadata": {},
   "outputs": [],
   "source": [
    "df['ps_inter'] = df.significant * df.planar_measure"
   ]
  },
  {
   "cell_type": "code",
   "execution_count": null,
   "id": "ae0f9c32-9c98-4985-889c-77d8433b5033",
   "metadata": {},
   "outputs": [],
   "source": [
    "results = smf.ols(\"network_measure ~ planar_measure + ps_inter\", data=df).fit()\n",
    "\n",
    "print(results.summary())"
   ]
  },
  {
   "cell_type": "code",
   "execution_count": null,
   "id": "23845627-59f9-4552-b17e-d0c3f978da96",
   "metadata": {},
   "outputs": [],
   "source": [
    "(df.network_measure > df.planar_measure).sum()"
   ]
  },
  {
   "cell_type": "code",
   "execution_count": null,
   "id": "e4b09d17-152e-4c9f-8ea9-cc0d91b469df",
   "metadata": {},
   "outputs": [],
   "source": [
    "spvars = ['network_measure', 'planar_measure', 'significant', 'pct_diff', 'circuity_avg', 'street_length_total']"
   ]
  },
  {
   "cell_type": "code",
   "execution_count": null,
   "id": "fe2ddab8-f487-4c66-8938-6c4dcfe5589f",
   "metadata": {},
   "outputs": [],
   "source": [
    "sns.pairplot(df[spvars], hue='significant');"
   ]
  },
  {
   "cell_type": "code",
   "execution_count": null,
   "id": "a2587092-5222-4078-a57b-6dcd61dd5ede",
   "metadata": {},
   "outputs": [],
   "source": [
    "def pcbar(df, name, output=None):\n",
    "    cdf = df.corr()\n",
    "    var_names = cdf.columns.values\n",
    "    pairs = [ ]\n",
    "    k = len(var_names)\n",
    "    for i in range(k-1):\n",
    "        for j in range(i+1, k):\n",
    "            pair =  f'{var_names[i]} v. {var_names[j]}'\n",
    "            c = cdf.iloc[i,j]\n",
    "            #print(pair, c)\n",
    "            pairs.append([pair, c])\n",
    "    df = pd.DataFrame(pairs, columns=['pair', 'rho'])\n",
    "    rho = df.loc[:, ['rho']]\n",
    "    df['colors'] = ['red' if rho < 0 else 'green' for rho in df['rho']]\n",
    "    df.sort_values('rho', inplace=True)\n",
    "    df.reset_index(inplace=True)\n",
    "    rho = df.loc[:, ['rho']]\n",
    "\n",
    "    plt.figure(figsize=(14, 10), dpi=600)\n",
    "    xmin = rho * (rho < 0) \n",
    "    xmax = rho * (rho > 0)\n",
    "    \n",
    "    \n",
    "    plt.hlines(y = df.index, xmin=xmin, xmax=xmax, \n",
    "               colors=df.colors,\n",
    "               alpha=0.4, linewidth=5)\n",
    "    fontsize=12\n",
    "    if k > 10:\n",
    "        fontsize = 3\n",
    "        \n",
    "    plt.gca().set(ylabel='$pair$', xlabel='$rho$')\n",
    "    plt.yticks(df.index, df.pair, fontsize=fontsize)\n",
    "    plt.title(f'Pairwise Correlations {name}', fontdict={'size':20})\n",
    "    plt.xlim(-1, 1)\n",
    "    plt.grid(linestyle='--', alpha=0.5)\n",
    "    if output:\n",
    "        plt.savefig(output, dpi=600, figsize=(16,9), bbox_inches = 'tight')\n",
    "    plt.show()\n",
    "    return df"
   ]
  },
  {
   "cell_type": "code",
   "execution_count": null,
   "id": "abac4c29-68ad-4cf2-b82b-45bfdca9fd88",
   "metadata": {},
   "outputs": [],
   "source": [
    "pcbar(df, 'correlations')"
   ]
  },
  {
   "cell_type": "code",
   "execution_count": null,
   "id": "7725f2a8-2610-4ad1-ad67-f7a6fbab34fe",
   "metadata": {},
   "outputs": [],
   "source": [
    "def pcbar(df, name, output=None, focal=None):\n",
    "    cdf = df.corr()\n",
    "    var_names = cdf.columns.values\n",
    "    pairs = [ ]\n",
    "    k = len(var_names)\n",
    "    for i in range(k-1):\n",
    "        for j in range(i+1, k):\n",
    "            pair =  f'{var_names[i]} v. {var_names[j]}'\n",
    "            c = cdf.iloc[i,j]\n",
    "            #print(pair, c)\n",
    "            if focal:\n",
    "                if var_names[i]==focal or var_names[j]==focal:\n",
    "                    pairs.append([pair, c])\n",
    "            else:\n",
    "                pairs.append([pair, c])\n",
    "    df = pd.DataFrame(pairs, columns=['pair', 'rho'])\n",
    "    rho = df.loc[:, ['rho']]\n",
    "    df['colors'] = ['red' if rho < 0 else 'green' for rho in df['rho']]\n",
    "    df.sort_values('rho', inplace=True)\n",
    "    df.reset_index(inplace=True)\n",
    "    rho = df.loc[:, ['rho']]\n",
    "\n",
    "    plt.figure(figsize=(14, 10), dpi=600)\n",
    "    xmin = rho * (rho < 0) \n",
    "    xmax = rho * (rho > 0)\n",
    "    \n",
    "    \n",
    "    plt.hlines(y = df.index, xmin=xmin, xmax=xmax, \n",
    "               colors=df.colors,\n",
    "               alpha=0.4, linewidth=5)\n",
    "    fontsize=12\n",
    "    if len(pairs) > 50:\n",
    "        fontsize = 3\n",
    "        \n",
    "    plt.gca().set(ylabel='$pair$', xlabel='$rho$')\n",
    "    plt.yticks(df.index, df.pair, fontsize=fontsize)\n",
    "    plt.title(f'Pairwise Correlations {name}', fontdict={'size':20})\n",
    "    plt.xlim(-1, 1)\n",
    "    plt.grid(linestyle='--', alpha=0.5)\n",
    "    if output:\n",
    "        plt.savefig(output, dpi=600, figsize=(16,9), bbox_inches = 'tight')\n",
    "    plt.show()\n",
    "    return df"
   ]
  },
  {
   "cell_type": "code",
   "execution_count": null,
   "id": "0accbfd8-35a9-4d71-aafd-5cb82ac4ead4",
   "metadata": {},
   "outputs": [],
   "source": [
    "pcbar(df, 'pct_diff', focal='pct_diff', output=\"../paper/figures/correlations.png\")"
   ]
  },
  {
   "cell_type": "code",
   "execution_count": null,
   "id": "ac8cc94e-6c85-4f0d-9ff8-f7ff7685b441",
   "metadata": {},
   "outputs": [],
   "source": [
    "pcbar(df, 'seg_differrence', focal='seg_difference')"
   ]
  },
  {
   "cell_type": "code",
   "execution_count": null,
   "id": "b6128034-c93c-405e-b25e-0fc6e38d554a",
   "metadata": {
    "tags": []
   },
   "outputs": [],
   "source": [
    "# plot all the metros that have significant differences\n",
    "from geosnap import DataStore\n",
    "DataStore().msas().merge(df, left_on='geoid', right_on='fips').explore('significant', categorical=True, cmap='plasma')"
   ]
  },
  {
   "cell_type": "markdown",
   "id": "97f9d0ce-8a5e-4350-b9ed-e7e083b92bf3",
   "metadata": {},
   "source": [
    "just about all the large metros are significant"
   ]
  },
  {
   "cell_type": "code",
   "execution_count": null,
   "id": "b5e61631-01b6-4b55-b80e-68f285eed590",
   "metadata": {
    "tags": []
   },
   "outputs": [],
   "source": [
    "DataStore().msas()[DataStore().msas()['type']=='Metro Area'].plot()"
   ]
  },
  {
   "cell_type": "code",
   "execution_count": null,
   "id": "166258ea-67c6-407b-bcb5-a18667aeba4a",
   "metadata": {
    "tags": []
   },
   "outputs": [],
   "source": [
    "DataStore().msas()"
   ]
  },
  {
   "cell_type": "code",
   "execution_count": null,
   "id": "57828856-84f9-4678-a021-4fd8189302ed",
   "metadata": {
    "tags": []
   },
   "outputs": [],
   "source": [
    "import sklearn"
   ]
  },
  {
   "cell_type": "code",
   "execution_count": null,
   "id": "1e342a82-0f0e-4094-aa77-a8c0e4f5c3a5",
   "metadata": {
    "tags": []
   },
   "outputs": [],
   "source": [
    "pca = sklearn.decomposition.PCA().fit(df[features])"
   ]
  },
  {
   "cell_type": "code",
   "execution_count": null,
   "id": "42fbcc79-7468-4eb8-ab8c-1ce41169fb19",
   "metadata": {
    "tags": []
   },
   "outputs": [],
   "source": [
    "from seg_networks import best_factors"
   ]
  },
  {
   "cell_type": "code",
   "execution_count": null,
   "id": "bfec932c-a5cb-45b6-ad97-ba70b9429e6a",
   "metadata": {
    "tags": []
   },
   "outputs": [],
   "source": [
    "df[features].shape[1]"
   ]
  },
  {
   "cell_type": "code",
   "execution_count": null,
   "id": "c1650988-1719-47a9-b849-5971e133b6de",
   "metadata": {
    "tags": []
   },
   "outputs": [],
   "source": [
    "best_factors(df[features])"
   ]
  },
  {
   "cell_type": "code",
   "execution_count": null,
   "id": "b9905124-4fa7-4d3e-b7f4-fa6af162d2f9",
   "metadata": {},
   "outputs": [],
   "source": [
    "pca = sklearn.decomposition.PCA(n_components=6).fit(df[features])"
   ]
  },
  {
   "cell_type": "code",
   "execution_count": null,
   "id": "502e05bb-c582-4a54-82a9-fcd88f72f59c",
   "metadata": {
    "tags": []
   },
   "outputs": [],
   "source": [
    "pca.transform(df[features])"
   ]
  },
  {
   "cell_type": "code",
   "execution_count": null,
   "id": "025b30a5-ac7f-422e-815a-9f4ea73d788c",
   "metadata": {
    "tags": []
   },
   "outputs": [],
   "source": [
    "import statsmodels.api as sm"
   ]
  },
  {
   "cell_type": "code",
   "execution_count": null,
   "id": "e4dbb024-9f50-4147-b809-023ffde84d90",
   "metadata": {
    "tags": []
   },
   "outputs": [],
   "source": [
    "sm.OLS(df.seg_difference, pca.transform(df[features])).fit().summary()"
   ]
  },
  {
   "cell_type": "code",
   "execution_count": null,
   "id": "63418f3e-6f09-4636-955a-731a44db2bdb",
   "metadata": {
    "tags": []
   },
   "outputs": [],
   "source": [
    "Linear_Reg_Diagnostic(sm.OLS(df.pct_diff, pca.transform(df[features])).fit())()"
   ]
  },
  {
   "cell_type": "code",
   "execution_count": null,
   "id": "45786795-2fcc-443b-98ec-b84d59f67deb",
   "metadata": {},
   "outputs": [],
   "source": []
  }
 ],
 "metadata": {
  "kernelspec": {
   "display_name": "Python 3 (ipykernel)",
   "language": "python",
   "name": "python3"
  },
  "language_info": {
   "codemirror_mode": {
    "name": "ipython",
    "version": 3
   },
   "file_extension": ".py",
   "mimetype": "text/x-python",
   "name": "python",
   "nbconvert_exporter": "python",
   "pygments_lexer": "ipython3",
   "version": "3.9.13"
  },
  "widgets": {
   "application/vnd.jupyter.widget-state+json": {
    "state": {},
    "version_major": 2,
    "version_minor": 0
   }
  }
 },
 "nbformat": 4,
 "nbformat_minor": 5
}
