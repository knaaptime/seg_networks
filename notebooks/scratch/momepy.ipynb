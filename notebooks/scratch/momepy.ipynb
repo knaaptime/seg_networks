{
 "cells": [
  {
   "cell_type": "code",
   "execution_count": 1,
   "id": "5e139b68-a13d-4c7b-923a-6270be505c80",
   "metadata": {
    "execution": {
     "iopub.execute_input": "2022-10-25T18:53:51.787214Z",
     "iopub.status.busy": "2022-10-25T18:53:51.786407Z",
     "iopub.status.idle": "2022-10-25T18:53:56.979898Z",
     "shell.execute_reply": "2022-10-25T18:53:56.979304Z",
     "shell.execute_reply.started": "2022-10-25T18:53:51.787128Z"
    },
    "tags": []
   },
   "outputs": [
    {
     "name": "stderr",
     "output_type": "stream",
     "text": [
      "/Users/knaaptime/Dropbox/projects/geosnap/geosnap/_data.py:66: UserWarning: The geosnap data storage class is provided for convenience only. The geosnap developers make no promises regarding data quality, consistency, or availability, nor are they responsible for any use/misuse of the data. The end-user is responsible for any and all analyses or applications created with the package.\n",
      "  warn(\n",
      "OMP: Info #276: omp_set_nested routine deprecated, please use omp_set_max_active_levels instead.\n"
     ]
    }
   ],
   "source": [
    "import pandas as pd\n",
    "from geosnap import DataStore\n",
    "from seg_networks import generate_network_measures\n",
    "import os"
   ]
  },
  {
   "cell_type": "code",
   "execution_count": 2,
   "id": "0defffb1-b682-4583-9c21-d1bdec91afe8",
   "metadata": {
    "execution": {
     "iopub.execute_input": "2022-10-25T18:53:56.981056Z",
     "iopub.status.busy": "2022-10-25T18:53:56.980848Z",
     "iopub.status.idle": "2022-10-25T18:53:56.985016Z",
     "shell.execute_reply": "2022-10-25T18:53:56.984705Z",
     "shell.execute_reply.started": "2022-10-25T18:53:56.981040Z"
    },
    "tags": []
   },
   "outputs": [],
   "source": [
    "from geosnap import DataStore"
   ]
  },
  {
   "cell_type": "code",
   "execution_count": null,
   "id": "bd000ba9-9ee7-4e8f-97ea-1f988e73af12",
   "metadata": {},
   "outputs": [],
   "source": []
  },
  {
   "cell_type": "code",
   "execution_count": 3,
   "id": "0b047d5d-92b0-4477-b1b5-34696a5ad771",
   "metadata": {
    "execution": {
     "iopub.execute_input": "2022-10-25T18:53:56.985494Z",
     "iopub.status.busy": "2022-10-25T18:53:56.985407Z",
     "iopub.status.idle": "2022-10-25T18:53:57.040606Z",
     "shell.execute_reply": "2022-10-25T18:53:57.040114Z",
     "shell.execute_reply.started": "2022-10-25T18:53:56.985486Z"
    },
    "tags": []
   },
   "outputs": [],
   "source": [
    "import momepy"
   ]
  },
  {
   "cell_type": "code",
   "execution_count": 4,
   "id": "26a7f3c8-534b-4cab-8b84-4516077825e9",
   "metadata": {
    "execution": {
     "iopub.execute_input": "2022-10-25T18:53:57.044109Z",
     "iopub.status.busy": "2022-10-25T18:53:57.042709Z",
     "iopub.status.idle": "2022-10-25T18:53:57.048894Z",
     "shell.execute_reply": "2022-10-25T18:53:57.048147Z",
     "shell.execute_reply.started": "2022-10-25T18:53:57.044087Z"
    },
    "tags": []
   },
   "outputs": [],
   "source": [
    "import osmnx as ox"
   ]
  },
  {
   "cell_type": "code",
   "execution_count": 5,
   "id": "5b2e48dc-72b5-4042-b49a-4a02cbe1f7a6",
   "metadata": {
    "execution": {
     "iopub.execute_input": "2022-10-25T18:53:58.450304Z",
     "iopub.status.busy": "2022-10-25T18:53:58.449398Z",
     "iopub.status.idle": "2022-10-25T18:55:12.680584Z",
     "shell.execute_reply": "2022-10-25T18:55:12.680104Z",
     "shell.execute_reply.started": "2022-10-25T18:53:58.450258Z"
    },
    "tags": []
   },
   "outputs": [
    {
     "name": "stdout",
     "output_type": "stream",
     "text": [
      "CPU times: user 3 µs, sys: 1 µs, total: 4 µs\n",
      "Wall time: 6.91 µs\n"
     ]
    }
   ],
   "source": [
    "# balt\n",
    "%time\n",
    "test_graph = ox.io.load_graphml(\"../data/graphs/12580_graph.graphml\")"
   ]
  },
  {
   "cell_type": "code",
   "execution_count": 6,
   "id": "850ee47a-66ed-43cf-b0ad-7a97868f71c7",
   "metadata": {
    "execution": {
     "iopub.execute_input": "2022-10-25T18:55:12.681506Z",
     "iopub.status.busy": "2022-10-25T18:55:12.681403Z",
     "iopub.status.idle": "2022-10-25T18:55:18.020033Z",
     "shell.execute_reply": "2022-10-25T18:55:18.019310Z",
     "shell.execute_reply.started": "2022-10-25T18:55:12.681496Z"
    },
    "tags": []
   },
   "outputs": [],
   "source": [
    "cyc = momepy.cyclomatic(test_graph, radius=None)"
   ]
  },
  {
   "cell_type": "code",
   "execution_count": 7,
   "id": "f4275a21-f19b-4594-bd58-3ecfe985f636",
   "metadata": {
    "execution": {
     "iopub.execute_input": "2022-10-25T18:55:18.020795Z",
     "iopub.status.busy": "2022-10-25T18:55:18.020689Z",
     "iopub.status.idle": "2022-10-25T18:55:18.026003Z",
     "shell.execute_reply": "2022-10-25T18:55:18.025674Z",
     "shell.execute_reply.started": "2022-10-25T18:55:18.020786Z"
    },
    "tags": []
   },
   "outputs": [
    {
     "data": {
      "text/plain": [
       "624373"
      ]
     },
     "execution_count": 7,
     "metadata": {},
     "output_type": "execute_result"
    }
   ],
   "source": [
    "cyc"
   ]
  },
  {
   "cell_type": "code",
   "execution_count": 14,
   "id": "da008332-8116-4ae0-807f-8d97811fe7f9",
   "metadata": {
    "execution": {
     "iopub.execute_input": "2022-08-12T22:21:10.386802Z",
     "iopub.status.busy": "2022-08-12T22:21:10.386286Z",
     "iopub.status.idle": "2022-08-12T22:21:20.503398Z",
     "shell.execute_reply": "2022-08-12T22:21:20.503105Z",
     "shell.execute_reply.started": "2022-08-12T22:21:10.386744Z"
    },
    "tags": []
   },
   "outputs": [
    {
     "data": {
      "text/plain": [
       "0.8241949429414366"
      ]
     },
     "execution_count": 14,
     "metadata": {},
     "output_type": "execute_result"
    }
   ],
   "source": [
    "mesh = momepy.meshedness(test_graph, radius=None)\n",
    "mesh"
   ]
  },
  {
   "cell_type": "code",
   "execution_count": 13,
   "id": "011eec12-eff5-4acb-b9c1-ce6453e20388",
   "metadata": {
    "execution": {
     "iopub.execute_input": "2022-10-25T18:58:56.236586Z",
     "iopub.status.busy": "2022-10-25T18:58:56.232970Z",
     "iopub.status.idle": "2022-10-25T18:59:09.395993Z",
     "shell.execute_reply": "2022-10-25T18:59:09.395677Z",
     "shell.execute_reply.started": "2022-10-25T18:58:56.236441Z"
    },
    "tags": []
   },
   "outputs": [
    {
     "data": {
      "application/vnd.jupyter.widget-view+json": {
       "model_id": "97ad0999fb9841718b8be653c27ceb5d",
       "version_major": 2,
       "version_minor": 0
      },
      "text/plain": [
       "  0%|          | 0/378780 [00:00<?, ?it/s]"
      ]
     },
     "metadata": {},
     "output_type": "display_data"
    }
   ],
   "source": [
    "g = momepy.mean_node_dist(test_graph, length='length')"
   ]
  },
  {
   "cell_type": "code",
   "execution_count": 19,
   "id": "37d02014-eb9b-475a-8abf-e9b51fce35da",
   "metadata": {
    "execution": {
     "iopub.execute_input": "2022-10-25T19:00:54.805126Z",
     "iopub.status.busy": "2022-10-25T19:00:54.804033Z",
     "iopub.status.idle": "2022-10-25T19:00:54.822067Z",
     "shell.execute_reply": "2022-10-25T19:00:54.820899Z",
     "shell.execute_reply.started": "2022-10-25T19:00:54.805092Z"
    },
    "tags": []
   },
   "outputs": [
    {
     "ename": "AttributeError",
     "evalue": "'MultiDiGraph' object has no attribute 'meanlen'",
     "output_type": "error",
     "traceback": [
      "\u001b[0;31m---------------------------------------------------------------------------\u001b[0m",
      "\u001b[0;31mAttributeError\u001b[0m                            Traceback (most recent call last)",
      "Input \u001b[0;32mIn [19]\u001b[0m, in \u001b[0;36m<cell line: 1>\u001b[0;34m()\u001b[0m\n\u001b[0;32m----> 1\u001b[0m \u001b[43mg\u001b[49m\u001b[38;5;241;43m.\u001b[39;49m\u001b[43mmeanlen\u001b[49m\u001b[38;5;241m.\u001b[39mvalues()\n",
      "\u001b[0;31mAttributeError\u001b[0m: 'MultiDiGraph' object has no attribute 'meanlen'"
     ]
    }
   ],
   "source": [
    "g."
   ]
  },
  {
   "cell_type": "code",
   "execution_count": 15,
   "id": "24210668-0fc0-4720-9b50-fa743d29d036",
   "metadata": {
    "execution": {
     "iopub.execute_input": "2022-08-12T22:22:28.250383Z",
     "iopub.status.busy": "2022-08-12T22:22:28.249972Z",
     "iopub.status.idle": "2022-08-12T22:22:36.396639Z",
     "shell.execute_reply": "2022-08-12T22:22:36.396334Z",
     "shell.execute_reply.started": "2022-08-12T22:22:28.250359Z"
    }
   },
   "outputs": [
    {
     "data": {
      "text/plain": [
       "2.6483763662284177"
      ]
     },
     "execution_count": 15,
     "metadata": {},
     "output_type": "execute_result"
    }
   ],
   "source": [
    "# already in osmnx\n",
    "ne_ratio = momepy.edge_node_ratio(test_graph, radius=None)\n",
    "ne_ratio"
   ]
  },
  {
   "cell_type": "code",
   "execution_count": 21,
   "id": "159aea05-9a36-4fdb-afe1-1d9297cfd034",
   "metadata": {
    "execution": {
     "iopub.execute_input": "2022-10-26T01:21:15.140249Z",
     "iopub.status.busy": "2022-10-26T01:21:15.139795Z",
     "iopub.status.idle": "2022-10-26T01:21:26.472445Z",
     "shell.execute_reply": "2022-10-26T01:21:26.471945Z",
     "shell.execute_reply.started": "2022-10-26T01:21:15.140218Z"
    },
    "tags": []
   },
   "outputs": [
    {
     "data": {
      "text/plain": [
       "0.8827967833401095"
      ]
     },
     "execution_count": 21,
     "metadata": {},
     "output_type": "execute_result"
    }
   ],
   "source": [
    "momepy.gamma(test_graph, radius=None)"
   ]
  },
  {
   "cell_type": "code",
   "execution_count": 22,
   "id": "a5c823e9-44cc-4ee4-92cd-9a607e48fc93",
   "metadata": {
    "execution": {
     "iopub.execute_input": "2022-10-26T01:22:41.003414Z",
     "iopub.status.busy": "2022-10-26T01:22:41.003009Z",
     "iopub.status.idle": "2022-10-26T01:22:41.796823Z",
     "shell.execute_reply": "2022-10-26T01:22:41.796394Z",
     "shell.execute_reply.started": "2022-10-26T01:22:41.003390Z"
    },
    "tags": []
   },
   "outputs": [],
   "source": [
    "d = dict(test_graph.degree).values()"
   ]
  },
  {
   "cell_type": "code",
   "execution_count": 25,
   "id": "0014fa3c-e36b-4139-a9a8-55d95824a0f4",
   "metadata": {
    "execution": {
     "iopub.execute_input": "2022-10-26T01:23:50.221124Z",
     "iopub.status.busy": "2022-10-26T01:23:50.220491Z",
     "iopub.status.idle": "2022-10-26T01:23:50.336752Z",
     "shell.execute_reply": "2022-10-26T01:23:50.335670Z",
     "shell.execute_reply.started": "2022-10-26T01:23:50.221097Z"
    },
    "tags": []
   },
   "outputs": [
    {
     "data": {
      "text/plain": [
       "5.296752732456835"
      ]
     },
     "execution_count": 25,
     "metadata": {},
     "output_type": "execute_result"
    }
   ],
   "source": [
    "pd.Series(d).mean()"
   ]
  },
  {
   "cell_type": "code",
   "execution_count": 12,
   "id": "dfe0cbcf-b24e-42da-8239-651de90a2463",
   "metadata": {
    "execution": {
     "iopub.execute_input": "2022-10-05T04:01:23.676794Z",
     "iopub.status.busy": "2022-10-05T04:01:23.676345Z",
     "iopub.status.idle": "2022-10-05T04:01:23.766157Z",
     "shell.execute_reply": "2022-10-05T04:01:23.765703Z",
     "shell.execute_reply.started": "2022-10-05T04:01:23.676747Z"
    },
    "tags": []
   },
   "outputs": [
    {
     "data": {
      "text/plain": [
       "5.296752732456835"
      ]
     },
     "execution_count": 12,
     "metadata": {},
     "output_type": "execute_result"
    }
   ],
   "source": [
    "pd.Series(d).mean()"
   ]
  },
  {
   "cell_type": "code",
   "execution_count": 26,
   "id": "29a50d93-2c3f-420d-80c4-1bc4a2becab8",
   "metadata": {
    "execution": {
     "iopub.execute_input": "2022-10-26T02:08:33.733237Z",
     "iopub.status.busy": "2022-10-26T02:08:33.732472Z",
     "iopub.status.idle": "2022-10-26T02:09:06.527815Z",
     "shell.execute_reply": "2022-10-26T02:09:06.527311Z",
     "shell.execute_reply.started": "2022-10-26T02:08:33.733196Z"
    }
   },
   "outputs": [],
   "source": [
    "r = dict(\n",
    "cyclomatic=momepy.cyclomatic(test_graph, radius=None),\n",
    "meshedness=momepy.meshedness(test_graph, radius=None),\n",
    "gamma=momepy.gamma(test_graph, radius=None),\n",
    ")\n"
   ]
  },
  {
   "cell_type": "code",
   "execution_count": 36,
   "id": "454adf42-2082-4c2a-9cb0-41dd20eafef0",
   "metadata": {
    "execution": {
     "iopub.execute_input": "2022-10-26T02:11:07.967842Z",
     "iopub.status.busy": "2022-10-26T02:11:07.967444Z",
     "iopub.status.idle": "2022-10-26T02:11:07.981968Z",
     "shell.execute_reply": "2022-10-26T02:11:07.981222Z",
     "shell.execute_reply.started": "2022-10-26T02:11:07.967817Z"
    },
    "tags": []
   },
   "outputs": [
    {
     "data": {
      "text/html": [
       "<div>\n",
       "<style scoped>\n",
       "    .dataframe tbody tr th:only-of-type {\n",
       "        vertical-align: middle;\n",
       "    }\n",
       "\n",
       "    .dataframe tbody tr th {\n",
       "        vertical-align: top;\n",
       "    }\n",
       "\n",
       "    .dataframe thead th {\n",
       "        text-align: right;\n",
       "    }\n",
       "</style>\n",
       "<table border=\"1\" class=\"dataframe\">\n",
       "  <thead>\n",
       "    <tr style=\"text-align: right;\">\n",
       "      <th></th>\n",
       "      <th>12580</th>\n",
       "    </tr>\n",
       "  </thead>\n",
       "  <tbody>\n",
       "    <tr>\n",
       "      <th>cyclomatic</th>\n",
       "      <td>624373.000000</td>\n",
       "    </tr>\n",
       "    <tr>\n",
       "      <th>meshedness</th>\n",
       "      <td>0.824195</td>\n",
       "    </tr>\n",
       "    <tr>\n",
       "      <th>gamma</th>\n",
       "      <td>0.882797</td>\n",
       "    </tr>\n",
       "  </tbody>\n",
       "</table>\n",
       "</div>"
      ],
      "text/plain": [
       "                    12580\n",
       "cyclomatic  624373.000000\n",
       "meshedness       0.824195\n",
       "gamma            0.882797"
      ]
     },
     "execution_count": 36,
     "metadata": {},
     "output_type": "execute_result"
    }
   ],
   "source": [
    "pd.DataFrame.from_dict(r, orient='index',\n",
    "                       columns=['12580']\n",
    "                       )"
   ]
  },
  {
   "cell_type": "code",
   "execution_count": 8,
   "id": "8cde0a09-bd39-4bfd-a46e-8753c1e5966a",
   "metadata": {
    "execution": {
     "iopub.execute_input": "2022-10-25T18:55:18.027644Z",
     "iopub.status.busy": "2022-10-25T18:55:18.027536Z",
     "iopub.status.idle": "2022-10-25T18:57:06.438450Z",
     "shell.execute_reply": "2022-10-25T18:57:06.437672Z",
     "shell.execute_reply.started": "2022-10-25T18:55:18.027635Z"
    },
    "tags": []
   },
   "outputs": [
    {
     "data": {
      "application/vnd.jupyter.widget-view+json": {
       "model_id": "ff09dec66028491784c6b20ba443caad",
       "version_major": 2,
       "version_minor": 0
      },
      "text/plain": [
       "  0%|          | 0/378780 [00:00<?, ?it/s]"
      ]
     },
     "metadata": {},
     "output_type": "display_data"
    },
    {
     "ename": "KeyboardInterrupt",
     "evalue": "",
     "output_type": "error",
     "traceback": [
      "\u001b[0;31m---------------------------------------------------------------------------\u001b[0m",
      "\u001b[0;31mKeyboardInterrupt\u001b[0m                         Traceback (most recent call last)",
      "Input \u001b[0;32mIn [8]\u001b[0m, in \u001b[0;36m<cell line: 1>\u001b[0;34m()\u001b[0m\n\u001b[0;32m----> 1\u001b[0m cds \u001b[38;5;241m=\u001b[39m \u001b[43mmomepy\u001b[49m\u001b[38;5;241;43m.\u001b[39;49m\u001b[43mcds_length\u001b[49m\u001b[43m(\u001b[49m\u001b[43mmomepy\u001b[49m\u001b[38;5;241;43m.\u001b[39;49m\u001b[43mnode_degree\u001b[49m\u001b[43m(\u001b[49m\u001b[43mtest_graph\u001b[49m\u001b[43m)\u001b[49m\u001b[43m,\u001b[49m\u001b[43m \u001b[49m\u001b[43m)\u001b[49m\n\u001b[1;32m      2\u001b[0m cds\n",
      "File \u001b[0;32m~/mambaforge/envs/seg_networks/lib/python3.9/site-packages/momepy/graph.py:251\u001b[0m, in \u001b[0;36mcds_length\u001b[0;34m(graph, radius, mode, name, degree, length, distance, verbose)\u001b[0m\n\u001b[1;32m    249\u001b[0m \u001b[38;5;28;01mif\u001b[39;00m radius:\n\u001b[1;32m    250\u001b[0m     \u001b[38;5;28;01mfor\u001b[39;00m n \u001b[38;5;129;01min\u001b[39;00m tqdm(netx, total\u001b[38;5;241m=\u001b[39m\u001b[38;5;28mlen\u001b[39m(netx), disable\u001b[38;5;241m=\u001b[39m\u001b[38;5;129;01mnot\u001b[39;00m verbose):\n\u001b[0;32m--> 251\u001b[0m         sub \u001b[38;5;241m=\u001b[39m \u001b[43mnx\u001b[49m\u001b[38;5;241;43m.\u001b[39;49m\u001b[43mego_graph\u001b[49m\u001b[43m(\u001b[49m\n\u001b[1;32m    252\u001b[0m \u001b[43m            \u001b[49m\u001b[43mnetx\u001b[49m\u001b[43m,\u001b[49m\u001b[43m \u001b[49m\u001b[43mn\u001b[49m\u001b[43m,\u001b[49m\u001b[43m \u001b[49m\u001b[43mradius\u001b[49m\u001b[38;5;241;43m=\u001b[39;49m\u001b[43mradius\u001b[49m\u001b[43m,\u001b[49m\u001b[43m \u001b[49m\u001b[43mdistance\u001b[49m\u001b[38;5;241;43m=\u001b[39;49m\u001b[43mdistance\u001b[49m\n\u001b[1;32m    253\u001b[0m \u001b[43m        \u001b[49m\u001b[43m)\u001b[49m  \u001b[38;5;66;03m# define subgraph of steps=radius\u001b[39;00m\n\u001b[1;32m    254\u001b[0m         netx\u001b[38;5;241m.\u001b[39mnodes[n][name] \u001b[38;5;241m=\u001b[39m _cds_length(\n\u001b[1;32m    255\u001b[0m             sub, mode\u001b[38;5;241m=\u001b[39mmode, length\u001b[38;5;241m=\u001b[39mlength\n\u001b[1;32m    256\u001b[0m         )  \u001b[38;5;66;03m# save value calculated for subgraph to node\u001b[39;00m\n\u001b[1;32m    258\u001b[0m     \u001b[38;5;28;01mreturn\u001b[39;00m netx\n",
      "File \u001b[0;32m~/mambaforge/envs/seg_networks/lib/python3.9/site-packages/networkx/generators/ego.py:61\u001b[0m, in \u001b[0;36mego_graph\u001b[0;34m(G, n, radius, center, undirected, distance)\u001b[0m\n\u001b[1;32m     58\u001b[0m     \u001b[38;5;28;01melse\u001b[39;00m:\n\u001b[1;32m     59\u001b[0m         sp \u001b[38;5;241m=\u001b[39m \u001b[38;5;28mdict\u001b[39m(nx\u001b[38;5;241m.\u001b[39msingle_source_shortest_path_length(G, n, cutoff\u001b[38;5;241m=\u001b[39mradius))\n\u001b[0;32m---> 61\u001b[0m H \u001b[38;5;241m=\u001b[39m \u001b[43mG\u001b[49m\u001b[38;5;241;43m.\u001b[39;49m\u001b[43msubgraph\u001b[49m\u001b[43m(\u001b[49m\u001b[43msp\u001b[49m\u001b[43m)\u001b[49m\u001b[38;5;241;43m.\u001b[39;49m\u001b[43mcopy\u001b[49m\u001b[43m(\u001b[49m\u001b[43m)\u001b[49m\n\u001b[1;32m     62\u001b[0m \u001b[38;5;28;01mif\u001b[39;00m \u001b[38;5;129;01mnot\u001b[39;00m center:\n\u001b[1;32m     63\u001b[0m     H\u001b[38;5;241m.\u001b[39mremove_node(n)\n",
      "File \u001b[0;32m~/mambaforge/envs/seg_networks/lib/python3.9/site-packages/networkx/classes/multigraph.py:1069\u001b[0m, in \u001b[0;36mMultiGraph.copy\u001b[0;34m(self, as_view)\u001b[0m\n\u001b[1;32m   1067\u001b[0m G\u001b[38;5;241m.\u001b[39mgraph\u001b[38;5;241m.\u001b[39mupdate(\u001b[38;5;28mself\u001b[39m\u001b[38;5;241m.\u001b[39mgraph)\n\u001b[1;32m   1068\u001b[0m G\u001b[38;5;241m.\u001b[39madd_nodes_from((n, d\u001b[38;5;241m.\u001b[39mcopy()) \u001b[38;5;28;01mfor\u001b[39;00m n, d \u001b[38;5;129;01min\u001b[39;00m \u001b[38;5;28mself\u001b[39m\u001b[38;5;241m.\u001b[39m_node\u001b[38;5;241m.\u001b[39mitems())\n\u001b[0;32m-> 1069\u001b[0m \u001b[43mG\u001b[49m\u001b[38;5;241;43m.\u001b[39;49m\u001b[43madd_edges_from\u001b[49m\u001b[43m(\u001b[49m\n\u001b[1;32m   1070\u001b[0m \u001b[43m    \u001b[49m\u001b[43m(\u001b[49m\u001b[43mu\u001b[49m\u001b[43m,\u001b[49m\u001b[43m \u001b[49m\u001b[43mv\u001b[49m\u001b[43m,\u001b[49m\u001b[43m \u001b[49m\u001b[43mkey\u001b[49m\u001b[43m,\u001b[49m\u001b[43m \u001b[49m\u001b[43mdatadict\u001b[49m\u001b[38;5;241;43m.\u001b[39;49m\u001b[43mcopy\u001b[49m\u001b[43m(\u001b[49m\u001b[43m)\u001b[49m\u001b[43m)\u001b[49m\n\u001b[1;32m   1071\u001b[0m \u001b[43m    \u001b[49m\u001b[38;5;28;43;01mfor\u001b[39;49;00m\u001b[43m \u001b[49m\u001b[43mu\u001b[49m\u001b[43m,\u001b[49m\u001b[43m \u001b[49m\u001b[43mnbrs\u001b[49m\u001b[43m \u001b[49m\u001b[38;5;129;43;01min\u001b[39;49;00m\u001b[43m \u001b[49m\u001b[38;5;28;43mself\u001b[39;49m\u001b[38;5;241;43m.\u001b[39;49m\u001b[43m_adj\u001b[49m\u001b[38;5;241;43m.\u001b[39;49m\u001b[43mitems\u001b[49m\u001b[43m(\u001b[49m\u001b[43m)\u001b[49m\n\u001b[1;32m   1072\u001b[0m \u001b[43m    \u001b[49m\u001b[38;5;28;43;01mfor\u001b[39;49;00m\u001b[43m \u001b[49m\u001b[43mv\u001b[49m\u001b[43m,\u001b[49m\u001b[43m \u001b[49m\u001b[43mkeydict\u001b[49m\u001b[43m \u001b[49m\u001b[38;5;129;43;01min\u001b[39;49;00m\u001b[43m \u001b[49m\u001b[43mnbrs\u001b[49m\u001b[38;5;241;43m.\u001b[39;49m\u001b[43mitems\u001b[49m\u001b[43m(\u001b[49m\u001b[43m)\u001b[49m\n\u001b[1;32m   1073\u001b[0m \u001b[43m    \u001b[49m\u001b[38;5;28;43;01mfor\u001b[39;49;00m\u001b[43m \u001b[49m\u001b[43mkey\u001b[49m\u001b[43m,\u001b[49m\u001b[43m \u001b[49m\u001b[43mdatadict\u001b[49m\u001b[43m \u001b[49m\u001b[38;5;129;43;01min\u001b[39;49;00m\u001b[43m \u001b[49m\u001b[43mkeydict\u001b[49m\u001b[38;5;241;43m.\u001b[39;49m\u001b[43mitems\u001b[49m\u001b[43m(\u001b[49m\u001b[43m)\u001b[49m\n\u001b[1;32m   1074\u001b[0m \u001b[43m\u001b[49m\u001b[43m)\u001b[49m\n\u001b[1;32m   1075\u001b[0m \u001b[38;5;28;01mreturn\u001b[39;00m G\n",
      "File \u001b[0;32m~/mambaforge/envs/seg_networks/lib/python3.9/site-packages/networkx/classes/multigraph.py:563\u001b[0m, in \u001b[0;36mMultiGraph.add_edges_from\u001b[0;34m(self, ebunch_to_add, **attr)\u001b[0m\n\u001b[1;32m    512\u001b[0m \u001b[38;5;124;03m\"\"\"Add all the edges in ebunch_to_add.\u001b[39;00m\n\u001b[1;32m    513\u001b[0m \n\u001b[1;32m    514\u001b[0m \u001b[38;5;124;03mParameters\u001b[39;00m\n\u001b[0;32m   (...)\u001b[0m\n\u001b[1;32m    560\u001b[0m \u001b[38;5;124;03m>>> G.add_edges_from([(3, 4), (1, 4)], label=\"WN2898\")\u001b[39;00m\n\u001b[1;32m    561\u001b[0m \u001b[38;5;124;03m\"\"\"\u001b[39;00m\n\u001b[1;32m    562\u001b[0m keylist \u001b[38;5;241m=\u001b[39m []\n\u001b[0;32m--> 563\u001b[0m \u001b[38;5;28;01mfor\u001b[39;00m e \u001b[38;5;129;01min\u001b[39;00m ebunch_to_add:\n\u001b[1;32m    564\u001b[0m     ne \u001b[38;5;241m=\u001b[39m \u001b[38;5;28mlen\u001b[39m(e)\n\u001b[1;32m    565\u001b[0m     \u001b[38;5;28;01mif\u001b[39;00m ne \u001b[38;5;241m==\u001b[39m \u001b[38;5;241m4\u001b[39m:\n",
      "File \u001b[0;32m~/mambaforge/envs/seg_networks/lib/python3.9/site-packages/networkx/classes/multigraph.py:1073\u001b[0m, in \u001b[0;36m<genexpr>\u001b[0;34m(.0)\u001b[0m\n\u001b[1;32m   1067\u001b[0m G\u001b[38;5;241m.\u001b[39mgraph\u001b[38;5;241m.\u001b[39mupdate(\u001b[38;5;28mself\u001b[39m\u001b[38;5;241m.\u001b[39mgraph)\n\u001b[1;32m   1068\u001b[0m G\u001b[38;5;241m.\u001b[39madd_nodes_from((n, d\u001b[38;5;241m.\u001b[39mcopy()) \u001b[38;5;28;01mfor\u001b[39;00m n, d \u001b[38;5;129;01min\u001b[39;00m \u001b[38;5;28mself\u001b[39m\u001b[38;5;241m.\u001b[39m_node\u001b[38;5;241m.\u001b[39mitems())\n\u001b[1;32m   1069\u001b[0m G\u001b[38;5;241m.\u001b[39madd_edges_from(\n\u001b[1;32m   1070\u001b[0m     (u, v, key, datadict\u001b[38;5;241m.\u001b[39mcopy())\n\u001b[1;32m   1071\u001b[0m     \u001b[38;5;28;01mfor\u001b[39;00m u, nbrs \u001b[38;5;129;01min\u001b[39;00m \u001b[38;5;28mself\u001b[39m\u001b[38;5;241m.\u001b[39m_adj\u001b[38;5;241m.\u001b[39mitems()\n\u001b[1;32m   1072\u001b[0m     \u001b[38;5;28;01mfor\u001b[39;00m v, keydict \u001b[38;5;129;01min\u001b[39;00m nbrs\u001b[38;5;241m.\u001b[39mitems()\n\u001b[0;32m-> 1073\u001b[0m     \u001b[38;5;28;01mfor\u001b[39;00m key, datadict \u001b[38;5;129;01min\u001b[39;00m keydict\u001b[38;5;241m.\u001b[39mitems()\n\u001b[1;32m   1074\u001b[0m )\n\u001b[1;32m   1075\u001b[0m \u001b[38;5;28;01mreturn\u001b[39;00m G\n",
      "File \u001b[0;32m~/mambaforge/envs/seg_networks/lib/python3.9/_collections_abc.py:850\u001b[0m, in \u001b[0;36mItemsView.__iter__\u001b[0;34m(self)\u001b[0m\n\u001b[1;32m    849\u001b[0m \u001b[38;5;28;01mdef\u001b[39;00m \u001b[38;5;21m__iter__\u001b[39m(\u001b[38;5;28mself\u001b[39m):\n\u001b[0;32m--> 850\u001b[0m     \u001b[38;5;28;01mfor\u001b[39;00m key \u001b[38;5;129;01min\u001b[39;00m \u001b[38;5;28;43mself\u001b[39;49m\u001b[38;5;241;43m.\u001b[39;49m\u001b[43m_mapping\u001b[49m:\n\u001b[1;32m    851\u001b[0m         \u001b[38;5;28;01myield\u001b[39;00m (key, \u001b[38;5;28mself\u001b[39m\u001b[38;5;241m.\u001b[39m_mapping[key])\n",
      "\u001b[0;31mKeyboardInterrupt\u001b[0m: "
     ]
    }
   ],
   "source": [
    "cds = momepy.cds_length(momepy.node_degree(test_graph), )\n",
    "cds"
   ]
  },
  {
   "cell_type": "code",
   "execution_count": null,
   "id": "b5e89893-0dec-4ec2-971c-9b5bf8383c30",
   "metadata": {
    "tags": []
   },
   "outputs": [],
   "source": [
    "dict(cds.in_degree).values()"
   ]
  },
  {
   "cell_type": "code",
   "execution_count": null,
   "id": "575d8a4f-cbda-4ab2-a184-624dcddfa242",
   "metadata": {},
   "outputs": [],
   "source": []
  }
 ],
 "metadata": {
  "kernelspec": {
   "display_name": "Python [conda env:seg_networks]",
   "language": "python",
   "name": "conda-env-seg_networks-py"
  },
  "language_info": {
   "codemirror_mode": {
    "name": "ipython",
    "version": 3
   },
   "file_extension": ".py",
   "mimetype": "text/x-python",
   "name": "python",
   "nbconvert_exporter": "python",
   "pygments_lexer": "ipython3",
   "version": "3.9.13"
  },
  "widgets": {
   "application/vnd.jupyter.widget-state+json": {
    "state": {
     "041c9598288c4832b4f136280f053dd7": {
      "model_module": "@jupyter-widgets/base",
      "model_module_version": "1.2.0",
      "model_name": "LayoutModel",
      "state": {}
     },
     "0e8d52cac71744929e91082754821463": {
      "model_module": "@jupyter-widgets/base",
      "model_module_version": "1.2.0",
      "model_name": "LayoutModel",
      "state": {}
     },
     "13100b3c14724c938b82bb8f99d20b74": {
      "model_module": "@jupyter-widgets/base",
      "model_module_version": "1.2.0",
      "model_name": "LayoutModel",
      "state": {}
     },
     "164116020b9345418ccc5a3dedcda6c5": {
      "model_module": "@jupyter-widgets/base",
      "model_module_version": "1.2.0",
      "model_name": "LayoutModel",
      "state": {}
     },
     "16e98c2fb35b48a286e006010e810846": {
      "model_module": "@jupyter-widgets/base",
      "model_module_version": "1.2.0",
      "model_name": "LayoutModel",
      "state": {}
     },
     "1dfcfd7a8d4349b3bc2a9e3553df4925": {
      "model_module": "@jupyter-widgets/base",
      "model_module_version": "1.2.0",
      "model_name": "LayoutModel",
      "state": {}
     },
     "26f2e027509f4f5f8da790492ba8f88b": {
      "model_module": "@jupyter-widgets/controls",
      "model_module_version": "1.5.0",
      "model_name": "HBoxModel",
      "state": {
       "children": [
        "IPY_MODEL_4bfc58ef2d0e4d70a98031939461f97c",
        "IPY_MODEL_cc14de5a96ee43d6b6467a144af130f3",
        "IPY_MODEL_35e35313a49147bba9b634c56a5fb29b"
       ],
       "layout": "IPY_MODEL_86f6212afd104c818576096127ae12c6"
      }
     },
     "273302501d5644168c120e2f3a4d650b": {
      "model_module": "@jupyter-widgets/controls",
      "model_module_version": "1.5.0",
      "model_name": "HTMLModel",
      "state": {
       "layout": "IPY_MODEL_fe614c0eb58a466d94a5252a28079b4a",
       "style": "IPY_MODEL_5f59db84ad314961ac08e7dfa6147582",
       "value": " 378780/378780 [00:05&lt;00:00, 86254.36it/s]"
      }
     },
     "2b42f8c806fe460abbf84c855e628218": {
      "model_module": "@jupyter-widgets/base",
      "model_module_version": "1.2.0",
      "model_name": "LayoutModel",
      "state": {}
     },
     "2d34ca33b8874768a292d58938731500": {
      "model_module": "@jupyter-widgets/controls",
      "model_module_version": "1.5.0",
      "model_name": "DescriptionStyleModel",
      "state": {
       "description_width": ""
      }
     },
     "35e35313a49147bba9b634c56a5fb29b": {
      "model_module": "@jupyter-widgets/controls",
      "model_module_version": "1.5.0",
      "model_name": "HTMLModel",
      "state": {
       "layout": "IPY_MODEL_827b4ecb9c33445085a4cd3512ececbe",
       "style": "IPY_MODEL_d97932cb2b10473b97c1abc1aca3fff8",
       "value": " 378780/378780 [00:04&lt;00:00, 78665.21it/s]"
      }
     },
     "3744c94b30144e37b52242f5801f0131": {
      "model_module": "@jupyter-widgets/base",
      "model_module_version": "1.2.0",
      "model_name": "LayoutModel",
      "state": {}
     },
     "3ebddcbc44574454b672e6337da1161a": {
      "model_module": "@jupyter-widgets/base",
      "model_module_version": "1.2.0",
      "model_name": "LayoutModel",
      "state": {}
     },
     "46b9a6f79d0a4397902bd14480710490": {
      "model_module": "@jupyter-widgets/controls",
      "model_module_version": "1.5.0",
      "model_name": "ProgressStyleModel",
      "state": {
       "description_width": ""
      }
     },
     "4b42841448b04e138878f514c98421e2": {
      "model_module": "@jupyter-widgets/controls",
      "model_module_version": "1.5.0",
      "model_name": "FloatProgressModel",
      "state": {
       "bar_style": "success",
       "layout": "IPY_MODEL_77540c38c0884ca39447bec3767c71b6",
       "max": 378780,
       "style": "IPY_MODEL_6befdc2c5c944b4abae61e8c10a59dfd",
       "value": 378780
      }
     },
     "4bfc58ef2d0e4d70a98031939461f97c": {
      "model_module": "@jupyter-widgets/controls",
      "model_module_version": "1.5.0",
      "model_name": "HTMLModel",
      "state": {
       "layout": "IPY_MODEL_ecc62a4271484dde8331f5c32809e925",
       "style": "IPY_MODEL_835bcdaaec474b67bfd9ad9add314b2d",
       "value": "100%"
      }
     },
     "4d98a0fd88b54c2f9656908fc6da719f": {
      "model_module": "@jupyter-widgets/controls",
      "model_module_version": "1.5.0",
      "model_name": "HTMLModel",
      "state": {
       "layout": "IPY_MODEL_ffa11a854a794e87a2843789e542d2ea",
       "style": "IPY_MODEL_8bb11946048341a2a7bf89516664382a",
       "value": "100%"
      }
     },
     "54e3f692937047d7ac66282a3403595b": {
      "model_module": "@jupyter-widgets/controls",
      "model_module_version": "1.5.0",
      "model_name": "DescriptionStyleModel",
      "state": {
       "description_width": ""
      }
     },
     "5ac28c25ba5c46c3a444772e6f3c9ce2": {
      "model_module": "@jupyter-widgets/controls",
      "model_module_version": "1.5.0",
      "model_name": "DescriptionStyleModel",
      "state": {
       "description_width": ""
      }
     },
     "5ac8d5a73ae944c581be16527b768f8a": {
      "model_module": "@jupyter-widgets/controls",
      "model_module_version": "1.5.0",
      "model_name": "HBoxModel",
      "state": {
       "children": [
        "IPY_MODEL_763d79df09c84f26b73ad35db89f8375",
        "IPY_MODEL_6e0ebd570b8e4464ac5acf9fb9d324ee",
        "IPY_MODEL_d3b2b21bc3514267a2b5bda4259fb1d9"
       ],
       "layout": "IPY_MODEL_0e8d52cac71744929e91082754821463"
      }
     },
     "5b195612930844feb24f1fc6cfce0a4c": {
      "model_module": "@jupyter-widgets/base",
      "model_module_version": "1.2.0",
      "model_name": "LayoutModel",
      "state": {}
     },
     "5c58469179d9452ea46754eedc574c1c": {
      "model_module": "@jupyter-widgets/controls",
      "model_module_version": "1.5.0",
      "model_name": "DescriptionStyleModel",
      "state": {
       "description_width": ""
      }
     },
     "5f59db84ad314961ac08e7dfa6147582": {
      "model_module": "@jupyter-widgets/controls",
      "model_module_version": "1.5.0",
      "model_name": "DescriptionStyleModel",
      "state": {
       "description_width": ""
      }
     },
     "666f73a1cf1e497c8cdb6a6ba9c6ae31": {
      "model_module": "@jupyter-widgets/controls",
      "model_module_version": "1.5.0",
      "model_name": "DescriptionStyleModel",
      "state": {
       "description_width": ""
      }
     },
     "6befdc2c5c944b4abae61e8c10a59dfd": {
      "model_module": "@jupyter-widgets/controls",
      "model_module_version": "1.5.0",
      "model_name": "ProgressStyleModel",
      "state": {
       "description_width": ""
      }
     },
     "6e0ebd570b8e4464ac5acf9fb9d324ee": {
      "model_module": "@jupyter-widgets/controls",
      "model_module_version": "1.5.0",
      "model_name": "FloatProgressModel",
      "state": {
       "bar_style": "danger",
       "layout": "IPY_MODEL_93ce57357c574fc19a8016c4d33329e8",
       "max": 378780,
       "style": "IPY_MODEL_fa7c5dfd71f449da9bc49e5a0de72f7f",
       "value": 297127
      }
     },
     "718bd3d97c8745d1acd880a6f7f8acc7": {
      "model_module": "@jupyter-widgets/base",
      "model_module_version": "1.2.0",
      "model_name": "LayoutModel",
      "state": {}
     },
     "763d79df09c84f26b73ad35db89f8375": {
      "model_module": "@jupyter-widgets/controls",
      "model_module_version": "1.5.0",
      "model_name": "HTMLModel",
      "state": {
       "layout": "IPY_MODEL_cada77114ddc4966a592d75cfb68704a",
       "style": "IPY_MODEL_5ac28c25ba5c46c3a444772e6f3c9ce2",
       "value": " 78%"
      }
     },
     "771c34a60b2f475ca25c77c8d3f889ed": {
      "model_module": "@jupyter-widgets/base",
      "model_module_version": "1.2.0",
      "model_name": "LayoutModel",
      "state": {}
     },
     "77540c38c0884ca39447bec3767c71b6": {
      "model_module": "@jupyter-widgets/base",
      "model_module_version": "1.2.0",
      "model_name": "LayoutModel",
      "state": {}
     },
     "804e0d8f40fc4a60bf03a8d1ef617593": {
      "model_module": "@jupyter-widgets/controls",
      "model_module_version": "1.5.0",
      "model_name": "DescriptionStyleModel",
      "state": {
       "description_width": ""
      }
     },
     "80bdcf8550f94695ae9d7cd6553c5ead": {
      "model_module": "@jupyter-widgets/base",
      "model_module_version": "1.2.0",
      "model_name": "LayoutModel",
      "state": {}
     },
     "827b4ecb9c33445085a4cd3512ececbe": {
      "model_module": "@jupyter-widgets/base",
      "model_module_version": "1.2.0",
      "model_name": "LayoutModel",
      "state": {}
     },
     "835bcdaaec474b67bfd9ad9add314b2d": {
      "model_module": "@jupyter-widgets/controls",
      "model_module_version": "1.5.0",
      "model_name": "DescriptionStyleModel",
      "state": {
       "description_width": ""
      }
     },
     "86f6212afd104c818576096127ae12c6": {
      "model_module": "@jupyter-widgets/base",
      "model_module_version": "1.2.0",
      "model_name": "LayoutModel",
      "state": {}
     },
     "891c489264ed4832840449dfb12c39a0": {
      "model_module": "@jupyter-widgets/base",
      "model_module_version": "1.2.0",
      "model_name": "LayoutModel",
      "state": {}
     },
     "8bb11946048341a2a7bf89516664382a": {
      "model_module": "@jupyter-widgets/controls",
      "model_module_version": "1.5.0",
      "model_name": "DescriptionStyleModel",
      "state": {
       "description_width": ""
      }
     },
     "93ce57357c574fc19a8016c4d33329e8": {
      "model_module": "@jupyter-widgets/base",
      "model_module_version": "1.2.0",
      "model_name": "LayoutModel",
      "state": {}
     },
     "97ad0999fb9841718b8be653c27ceb5d": {
      "model_module": "@jupyter-widgets/controls",
      "model_module_version": "1.5.0",
      "model_name": "HBoxModel",
      "state": {
       "children": [
        "IPY_MODEL_4d98a0fd88b54c2f9656908fc6da719f",
        "IPY_MODEL_9ab50d4da4114e818cf0c4a984d3d4df",
        "IPY_MODEL_b419183d91dc4567a572c5b7c28b88a4"
       ],
       "layout": "IPY_MODEL_3ebddcbc44574454b672e6337da1161a"
      }
     },
     "998b75118f7b42f295ead2d0293db317": {
      "model_module": "@jupyter-widgets/controls",
      "model_module_version": "1.5.0",
      "model_name": "HTMLModel",
      "state": {
       "layout": "IPY_MODEL_f0e350b434904501a48bb2786c8539d8",
       "style": "IPY_MODEL_666f73a1cf1e497c8cdb6a6ba9c6ae31",
       "value": " 65121/378780 [01:27&lt;09:22, 557.15it/s]"
      }
     },
     "9ab50d4da4114e818cf0c4a984d3d4df": {
      "model_module": "@jupyter-widgets/controls",
      "model_module_version": "1.5.0",
      "model_name": "FloatProgressModel",
      "state": {
       "bar_style": "success",
       "layout": "IPY_MODEL_13100b3c14724c938b82bb8f99d20b74",
       "max": 378780,
       "style": "IPY_MODEL_46b9a6f79d0a4397902bd14480710490",
       "value": 378780
      }
     },
     "a5bb9c1d58ae464bb43d01e17bd8c7cb": {
      "model_module": "@jupyter-widgets/controls",
      "model_module_version": "1.5.0",
      "model_name": "HBoxModel",
      "state": {
       "children": [
        "IPY_MODEL_d76f16eaf9df4f9f81691189b8769f23",
        "IPY_MODEL_4b42841448b04e138878f514c98421e2",
        "IPY_MODEL_f3c43af2914c4d1688cd8dd33cface3b"
       ],
       "layout": "IPY_MODEL_16e98c2fb35b48a286e006010e810846"
      }
     },
     "a6750829ae7d41778cfb02868751e823": {
      "model_module": "@jupyter-widgets/controls",
      "model_module_version": "1.5.0",
      "model_name": "DescriptionStyleModel",
      "state": {
       "description_width": ""
      }
     },
     "b0d0baaa47644658948bd8849b87c6d1": {
      "model_module": "@jupyter-widgets/controls",
      "model_module_version": "1.5.0",
      "model_name": "FloatProgressModel",
      "state": {
       "bar_style": "success",
       "layout": "IPY_MODEL_041c9598288c4832b4f136280f053dd7",
       "max": 378780,
       "style": "IPY_MODEL_f1e7a92c8ef64aa897a3724408d51879",
       "value": 378780
      }
     },
     "b1b05eb3c750472abe3b0e21cdb9e559": {
      "model_module": "@jupyter-widgets/base",
      "model_module_version": "1.2.0",
      "model_name": "LayoutModel",
      "state": {}
     },
     "b419183d91dc4567a572c5b7c28b88a4": {
      "model_module": "@jupyter-widgets/controls",
      "model_module_version": "1.5.0",
      "model_name": "HTMLModel",
      "state": {
       "layout": "IPY_MODEL_80bdcf8550f94695ae9d7cd6553c5ead",
       "style": "IPY_MODEL_fd9b96a1059342ddbb9ae5ed4064f309",
       "value": " 378780/378780 [00:05&lt;00:00, 76874.29it/s]"
      }
     },
     "b71f4112e6bb4e27bb6bf326eda2e423": {
      "model_module": "@jupyter-widgets/controls",
      "model_module_version": "1.5.0",
      "model_name": "FloatProgressModel",
      "state": {
       "bar_style": "danger",
       "layout": "IPY_MODEL_3744c94b30144e37b52242f5801f0131",
       "max": 378780,
       "style": "IPY_MODEL_ca949b6dda1d43789c77270359b778c0",
       "value": 65121
      }
     },
     "ca949b6dda1d43789c77270359b778c0": {
      "model_module": "@jupyter-widgets/controls",
      "model_module_version": "1.5.0",
      "model_name": "ProgressStyleModel",
      "state": {
       "description_width": ""
      }
     },
     "cada77114ddc4966a592d75cfb68704a": {
      "model_module": "@jupyter-widgets/base",
      "model_module_version": "1.2.0",
      "model_name": "LayoutModel",
      "state": {}
     },
     "cc14de5a96ee43d6b6467a144af130f3": {
      "model_module": "@jupyter-widgets/controls",
      "model_module_version": "1.5.0",
      "model_name": "FloatProgressModel",
      "state": {
       "bar_style": "success",
       "layout": "IPY_MODEL_5b195612930844feb24f1fc6cfce0a4c",
       "max": 378780,
       "style": "IPY_MODEL_d2ff4de615d54f5795a2df5728ed2632",
       "value": 378780
      }
     },
     "d108fe61c7154783bb77b4f6c4f5c63b": {
      "model_module": "@jupyter-widgets/controls",
      "model_module_version": "1.5.0",
      "model_name": "HTMLModel",
      "state": {
       "layout": "IPY_MODEL_164116020b9345418ccc5a3dedcda6c5",
       "style": "IPY_MODEL_804e0d8f40fc4a60bf03a8d1ef617593",
       "value": "100%"
      }
     },
     "d2ff4de615d54f5795a2df5728ed2632": {
      "model_module": "@jupyter-widgets/controls",
      "model_module_version": "1.5.0",
      "model_name": "ProgressStyleModel",
      "state": {
       "description_width": ""
      }
     },
     "d3b2b21bc3514267a2b5bda4259fb1d9": {
      "model_module": "@jupyter-widgets/controls",
      "model_module_version": "1.5.0",
      "model_name": "HTMLModel",
      "state": {
       "layout": "IPY_MODEL_718bd3d97c8745d1acd880a6f7f8acc7",
       "style": "IPY_MODEL_2d34ca33b8874768a292d58938731500",
       "value": " 297127/378780 [05:59&lt;01:14, 1089.72it/s]"
      }
     },
     "d76f16eaf9df4f9f81691189b8769f23": {
      "model_module": "@jupyter-widgets/controls",
      "model_module_version": "1.5.0",
      "model_name": "HTMLModel",
      "state": {
       "layout": "IPY_MODEL_b1b05eb3c750472abe3b0e21cdb9e559",
       "style": "IPY_MODEL_5c58469179d9452ea46754eedc574c1c",
       "value": "100%"
      }
     },
     "d78f8c082fd3487980bfaad54f93a9de": {
      "model_module": "@jupyter-widgets/controls",
      "model_module_version": "1.5.0",
      "model_name": "HBoxModel",
      "state": {
       "children": [
        "IPY_MODEL_d108fe61c7154783bb77b4f6c4f5c63b",
        "IPY_MODEL_b0d0baaa47644658948bd8849b87c6d1",
        "IPY_MODEL_273302501d5644168c120e2f3a4d650b"
       ],
       "layout": "IPY_MODEL_2b42f8c806fe460abbf84c855e628218"
      }
     },
     "d97932cb2b10473b97c1abc1aca3fff8": {
      "model_module": "@jupyter-widgets/controls",
      "model_module_version": "1.5.0",
      "model_name": "DescriptionStyleModel",
      "state": {
       "description_width": ""
      }
     },
     "ecc62a4271484dde8331f5c32809e925": {
      "model_module": "@jupyter-widgets/base",
      "model_module_version": "1.2.0",
      "model_name": "LayoutModel",
      "state": {}
     },
     "f0e350b434904501a48bb2786c8539d8": {
      "model_module": "@jupyter-widgets/base",
      "model_module_version": "1.2.0",
      "model_name": "LayoutModel",
      "state": {}
     },
     "f1e7a92c8ef64aa897a3724408d51879": {
      "model_module": "@jupyter-widgets/controls",
      "model_module_version": "1.5.0",
      "model_name": "ProgressStyleModel",
      "state": {
       "description_width": ""
      }
     },
     "f3c43af2914c4d1688cd8dd33cface3b": {
      "model_module": "@jupyter-widgets/controls",
      "model_module_version": "1.5.0",
      "model_name": "HTMLModel",
      "state": {
       "layout": "IPY_MODEL_771c34a60b2f475ca25c77c8d3f889ed",
       "style": "IPY_MODEL_a6750829ae7d41778cfb02868751e823",
       "value": " 378780/378780 [00:05&lt;00:00, 81117.29it/s]"
      }
     },
     "fa7c5dfd71f449da9bc49e5a0de72f7f": {
      "model_module": "@jupyter-widgets/controls",
      "model_module_version": "1.5.0",
      "model_name": "ProgressStyleModel",
      "state": {
       "description_width": ""
      }
     },
     "fafc19d1f2af4708aa2f192c69c6eb6c": {
      "model_module": "@jupyter-widgets/controls",
      "model_module_version": "1.5.0",
      "model_name": "HTMLModel",
      "state": {
       "layout": "IPY_MODEL_891c489264ed4832840449dfb12c39a0",
       "style": "IPY_MODEL_54e3f692937047d7ac66282a3403595b",
       "value": " 17%"
      }
     },
     "fd9b96a1059342ddbb9ae5ed4064f309": {
      "model_module": "@jupyter-widgets/controls",
      "model_module_version": "1.5.0",
      "model_name": "DescriptionStyleModel",
      "state": {
       "description_width": ""
      }
     },
     "fe614c0eb58a466d94a5252a28079b4a": {
      "model_module": "@jupyter-widgets/base",
      "model_module_version": "1.2.0",
      "model_name": "LayoutModel",
      "state": {}
     },
     "ff09dec66028491784c6b20ba443caad": {
      "model_module": "@jupyter-widgets/controls",
      "model_module_version": "1.5.0",
      "model_name": "HBoxModel",
      "state": {
       "children": [
        "IPY_MODEL_fafc19d1f2af4708aa2f192c69c6eb6c",
        "IPY_MODEL_b71f4112e6bb4e27bb6bf326eda2e423",
        "IPY_MODEL_998b75118f7b42f295ead2d0293db317"
       ],
       "layout": "IPY_MODEL_1dfcfd7a8d4349b3bc2a9e3553df4925"
      }
     },
     "ffa11a854a794e87a2843789e542d2ea": {
      "model_module": "@jupyter-widgets/base",
      "model_module_version": "1.2.0",
      "model_name": "LayoutModel",
      "state": {}
     }
    },
    "version_major": 2,
    "version_minor": 0
   }
  }
 },
 "nbformat": 4,
 "nbformat_minor": 5
}
