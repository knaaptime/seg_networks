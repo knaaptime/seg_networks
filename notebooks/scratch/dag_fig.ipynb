{
 "cells": [
  {
   "cell_type": "code",
   "execution_count": null,
   "id": "d68eb64f-9b76-490e-a7b9-f2e02f9e83ff",
   "metadata": {},
   "outputs": [],
   "source": []
  },
  {
   "cell_type": "code",
   "execution_count": 1,
   "id": "3d06f8ee-d92d-4b56-b10e-f7b8db31fbdd",
   "metadata": {
    "execution": {
     "iopub.execute_input": "2022-11-03T22:46:48.062742Z",
     "iopub.status.busy": "2022-11-03T22:46:48.062599Z",
     "iopub.status.idle": "2022-11-03T22:46:48.161901Z",
     "shell.execute_reply": "2022-11-03T22:46:48.160144Z",
     "shell.execute_reply.started": "2022-11-03T22:46:48.062708Z"
    }
   },
   "outputs": [],
   "source": [
    "import pygraphviz as pgv\n"
   ]
  },
  {
   "cell_type": "code",
   "execution_count": 2,
   "id": "552d5cea-859c-4136-9074-f18aea292216",
   "metadata": {
    "execution": {
     "iopub.execute_input": "2022-11-03T22:46:48.166338Z",
     "iopub.status.busy": "2022-11-03T22:46:48.166222Z",
     "iopub.status.idle": "2022-11-03T22:46:48.170671Z",
     "shell.execute_reply": "2022-11-03T22:46:48.169727Z",
     "shell.execute_reply.started": "2022-11-03T22:46:48.166328Z"
    },
    "tags": []
   },
   "outputs": [],
   "source": [
    "\n",
    "observed =  ['circuity', 'meshedness', 'cyclomatic']\n",
    "\n",
    "mediating = [\"distance_delta\"]\n",
    "\n",
    "outcome = [\"seg_difference\"]\n"
   ]
  },
  {
   "cell_type": "code",
   "execution_count": 23,
   "id": "3945be78-30a3-41d6-a433-3193fde74645",
   "metadata": {
    "execution": {
     "iopub.execute_input": "2022-11-03T22:53:20.386293Z",
     "iopub.status.busy": "2022-11-03T22:53:20.385880Z",
     "iopub.status.idle": "2022-11-03T22:53:20.392466Z",
     "shell.execute_reply": "2022-11-03T22:53:20.391767Z",
     "shell.execute_reply.started": "2022-11-03T22:53:20.386267Z"
    },
    "tags": []
   },
   "outputs": [],
   "source": [
    "A = pgv.AGraph(directed=True, strict=True, rankdir=\"LR\")\n"
   ]
  },
  {
   "cell_type": "code",
   "execution_count": 24,
   "id": "cbcb7521-5053-4fb9-b1a4-d28274f62fdb",
   "metadata": {
    "execution": {
     "iopub.execute_input": "2022-11-03T22:53:20.605194Z",
     "iopub.status.busy": "2022-11-03T22:53:20.604412Z",
     "iopub.status.idle": "2022-11-03T22:53:20.613036Z",
     "shell.execute_reply": "2022-11-03T22:53:20.610639Z",
     "shell.execute_reply.started": "2022-11-03T22:53:20.604920Z"
    },
    "tags": []
   },
   "outputs": [],
   "source": [
    "A.add_nodes_from(observed)"
   ]
  },
  {
   "cell_type": "code",
   "execution_count": 25,
   "id": "0ae6688e-766b-4bde-aa37-7e5f4426ddbf",
   "metadata": {
    "execution": {
     "iopub.execute_input": "2022-11-03T22:53:20.870059Z",
     "iopub.status.busy": "2022-11-03T22:53:20.869652Z",
     "iopub.status.idle": "2022-11-03T22:53:20.898152Z",
     "shell.execute_reply": "2022-11-03T22:53:20.894700Z",
     "shell.execute_reply.started": "2022-11-03T22:53:20.870033Z"
    },
    "tags": []
   },
   "outputs": [],
   "source": [
    "for node in A.nodes():\n",
    "    node = A.get_node(node)\n",
    "    node.attr['shape'] = 'diamond'"
   ]
  },
  {
   "cell_type": "code",
   "execution_count": 26,
   "id": "ac17344b-b9be-4dfc-b7d3-e67357d01d41",
   "metadata": {
    "execution": {
     "iopub.execute_input": "2022-11-03T22:53:21.069418Z",
     "iopub.status.busy": "2022-11-03T22:53:21.068806Z",
     "iopub.status.idle": "2022-11-03T22:53:21.099300Z",
     "shell.execute_reply": "2022-11-03T22:53:21.097890Z",
     "shell.execute_reply.started": "2022-11-03T22:53:21.069390Z"
    },
    "tags": []
   },
   "outputs": [],
   "source": [
    "A.add_node('distance_delta', color='red', shape='ellipse')\n",
    "A.add_node('segregation_delta', color='blue', shape='box')"
   ]
  },
  {
   "cell_type": "code",
   "execution_count": 27,
   "id": "35bfc330-3c1b-427a-b452-01f3b9d894e7",
   "metadata": {
    "execution": {
     "iopub.execute_input": "2022-11-03T22:53:21.301332Z",
     "iopub.status.busy": "2022-11-03T22:53:21.300936Z",
     "iopub.status.idle": "2022-11-03T22:53:21.310187Z",
     "shell.execute_reply": "2022-11-03T22:53:21.309049Z",
     "shell.execute_reply.started": "2022-11-03T22:53:21.301306Z"
    },
    "tags": []
   },
   "outputs": [],
   "source": [
    "A.add_edge(\"circuity\", \"distance_delta\")\n",
    "A.add_edge(\"meshedness\", \"distance_delta\")\n",
    "A.add_edge(\"cyclomatic\", \"distance_delta\")\n",
    "\n",
    "A.add_edge(\"distance_delta\", \"segregation_delta\")\n"
   ]
  },
  {
   "cell_type": "code",
   "execution_count": 28,
   "id": "a29fadd7-75ed-47c9-b1ea-0d2f7467144a",
   "metadata": {
    "execution": {
     "iopub.execute_input": "2022-11-03T22:53:21.517530Z",
     "iopub.status.busy": "2022-11-03T22:53:21.517124Z",
     "iopub.status.idle": "2022-11-03T22:53:21.522155Z",
     "shell.execute_reply": "2022-11-03T22:53:21.520991Z",
     "shell.execute_reply.started": "2022-11-03T22:53:21.517505Z"
    },
    "tags": []
   },
   "outputs": [],
   "source": [
    "A.node_attr.update(fontname=\"Impact\")"
   ]
  },
  {
   "cell_type": "code",
   "execution_count": 29,
   "id": "8280fe7c-2d6d-41a4-be7b-8d942ce0b8fd",
   "metadata": {
    "execution": {
     "iopub.execute_input": "2022-11-03T22:53:21.776004Z",
     "iopub.status.busy": "2022-11-03T22:53:21.767442Z",
     "iopub.status.idle": "2022-11-03T22:53:22.400450Z",
     "shell.execute_reply": "2022-11-03T22:53:22.394436Z",
     "shell.execute_reply.started": "2022-11-03T22:53:21.775961Z"
    },
    "tags": []
   },
   "outputs": [],
   "source": [
    "\n",
    "A.graph_attr[\"ranksep\"] =\"1.0 equally\"\n",
    "A.graph_attr[\"dpi\"]= \"120\"\n",
    "A.layout('dot')  # layout with default (neato)\n"
   ]
  },
  {
   "cell_type": "code",
   "execution_count": 33,
   "id": "c90cf858-e541-4732-b20f-c88ce3c38c39",
   "metadata": {
    "execution": {
     "iopub.execute_input": "2022-11-03T22:53:40.166807Z",
     "iopub.status.busy": "2022-11-03T22:53:40.165991Z",
     "iopub.status.idle": "2022-11-03T22:53:41.004628Z",
     "shell.execute_reply": "2022-11-03T22:53:41.004152Z",
     "shell.execute_reply.started": "2022-11-03T22:53:40.166781Z"
    },
    "tags": []
   },
   "outputs": [],
   "source": [
    "\n",
    "A.write(\"../../paper/figures/model_dag.dot\")  # write to simple.dot\n",
    "\n",
    "A.draw(\"../../paper/figures/dag.png\")  # draw png"
   ]
  },
  {
   "cell_type": "code",
   "execution_count": 34,
   "id": "83098f84-9929-45bb-99c4-77a22d9b99ee",
   "metadata": {
    "execution": {
     "iopub.execute_input": "2022-11-03T22:53:41.007190Z",
     "iopub.status.busy": "2022-11-03T22:53:41.007012Z",
     "iopub.status.idle": "2022-11-03T22:53:41.074173Z",
     "shell.execute_reply": "2022-11-03T22:53:41.040231Z",
     "shell.execute_reply.started": "2022-11-03T22:53:41.007178Z"
    },
    "tags": []
   },
   "outputs": [],
   "source": [
    "from IPython.display import Image"
   ]
  },
  {
   "cell_type": "code",
   "execution_count": 35,
   "id": "4f44f45c-4417-4f9c-a390-818a0fae501a",
   "metadata": {
    "execution": {
     "iopub.execute_input": "2022-11-03T22:53:41.206395Z",
     "iopub.status.busy": "2022-11-03T22:53:41.206063Z",
     "iopub.status.idle": "2022-11-03T22:53:41.232578Z",
     "shell.execute_reply": "2022-11-03T22:53:41.222322Z",
     "shell.execute_reply.started": "2022-11-03T22:53:41.206382Z"
    },
    "tags": []
   },
   "outputs": [
    {
     "data": {
      "image/png": "[encoded data removed]",
      "text/plain": [
       "<IPython.core.display.Image object>"
      ]
     },
     "execution_count": 35,
     "metadata": {},
     "output_type": "execute_result"
    }
   ],
   "source": [
    "Image(\"../../paper/figures/dag.png\") "
   ]
  },
  {
   "cell_type": "code",
   "execution_count": null,
   "id": "9244b4d1-fd3e-4535-8284-ab8ba762ddca",
   "metadata": {},
   "outputs": [],
   "source": []
  }
 ],
 "metadata": {
  "kernelspec": {
   "display_name": "Python [conda env:seg_networks]",
   "language": "python",
   "name": "conda-env-seg_networks-py"
  },
  "language_info": {
   "codemirror_mode": {
    "name": "ipython",
    "version": 3
   },
   "file_extension": ".py",
   "mimetype": "text/x-python",
   "name": "python",
   "nbconvert_exporter": "python",
   "pygments_lexer": "ipython3",
   "version": "3.9.13"
  },
  "widgets": {
   "application/vnd.jupyter.widget-state+json": {
    "state": {},
    "version_major": 2,
    "version_minor": 0
   }
  }
 },
 "nbformat": 4,
 "nbformat_minor": 5
}
