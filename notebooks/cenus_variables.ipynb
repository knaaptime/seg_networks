{
 "cells": [
  {
   "cell_type": "code",
   "execution_count": 1,
   "id": "2291aba9-6245-468a-9a79-33004d0b8f46",
   "metadata": {
    "execution": {
     "iopub.execute_input": "2022-10-25T17:18:48.575138Z",
     "iopub.status.busy": "2022-10-25T17:18:48.574036Z",
     "iopub.status.idle": "2022-10-25T17:18:50.641176Z",
     "shell.execute_reply": "2022-10-25T17:18:50.640834Z",
     "shell.execute_reply.started": "2022-10-25T17:18:48.575045Z"
    }
   },
   "outputs": [],
   "source": [
    "import pandas as pd\n",
    "import geopandas as gpd\n",
    "import numpy as np\n",
    "import matplotlib.pyplot as plt\n",
    "import proplot as pplt"
   ]
  },
  {
   "cell_type": "markdown",
   "id": "bd433853-164d-4f72-8db8-da641aef0c28",
   "metadata": {},
   "source": [
    "<https://www2.census.gov/geo/tiger/TIGER2021/CBSA/>"
   ]
  },
  {
   "cell_type": "code",
   "execution_count": 32,
   "id": "f3aee269-79b9-4f0e-bb36-6d1a97104835",
   "metadata": {
    "execution": {
     "iopub.execute_input": "2022-10-25T17:35:18.132268Z",
     "iopub.status.busy": "2022-10-25T17:35:18.131866Z",
     "iopub.status.idle": "2022-10-25T17:36:06.047357Z",
     "shell.execute_reply": "2022-10-25T17:36:06.046693Z",
     "shell.execute_reply.started": "2022-10-25T17:35:18.132243Z"
    },
    "tags": []
   },
   "outputs": [],
   "source": [
    "# boundary of MSAs with land/water area\n",
    "msas = gpd.read_file(\"zip+https://www2.census.gov/geo/tiger/TIGER2021/CBSA/tl_2021_us_cbsa.zip\")"
   ]
  },
  {
   "cell_type": "code",
   "execution_count": 33,
   "id": "2af373ee-bf31-4ff2-983a-1e8af3428a9c",
   "metadata": {
    "execution": {
     "iopub.execute_input": "2022-10-25T17:36:51.132752Z",
     "iopub.status.busy": "2022-10-25T17:36:51.129650Z",
     "iopub.status.idle": "2022-10-25T17:36:51.251362Z",
     "shell.execute_reply": "2022-10-25T17:36:51.250890Z",
     "shell.execute_reply.started": "2022-10-25T17:36:51.132719Z"
    },
    "tags": []
   },
   "outputs": [
    {
     "data": {
      "text/html": [
       "<div>\n",
       "<style scoped>\n",
       "    .dataframe tbody tr th:only-of-type {\n",
       "        vertical-align: middle;\n",
       "    }\n",
       "\n",
       "    .dataframe tbody tr th {\n",
       "        vertical-align: top;\n",
       "    }\n",
       "\n",
       "    .dataframe thead th {\n",
       "        text-align: right;\n",
       "    }\n",
       "</style>\n",
       "<table border=\"1\" class=\"dataframe\">\n",
       "  <thead>\n",
       "    <tr style=\"text-align: right;\">\n",
       "      <th></th>\n",
       "      <th>CSAFP</th>\n",
       "      <th>CBSAFP</th>\n",
       "      <th>GEOID</th>\n",
       "      <th>NAME</th>\n",
       "      <th>NAMELSAD</th>\n",
       "      <th>LSAD</th>\n",
       "      <th>MEMI</th>\n",
       "      <th>MTFCC</th>\n",
       "      <th>ALAND</th>\n",
       "      <th>AWATER</th>\n",
       "      <th>INTPTLAT</th>\n",
       "      <th>INTPTLON</th>\n",
       "      <th>geometry</th>\n",
       "    </tr>\n",
       "  </thead>\n",
       "  <tbody>\n",
       "    <tr>\n",
       "      <th>0</th>\n",
       "      <td>122</td>\n",
       "      <td>12020</td>\n",
       "      <td>12020</td>\n",
       "      <td>Athens-Clarke County, GA</td>\n",
       "      <td>Athens-Clarke County, GA Metro Area</td>\n",
       "      <td>M1</td>\n",
       "      <td>1</td>\n",
       "      <td>G3110</td>\n",
       "      <td>2654607902</td>\n",
       "      <td>26109459</td>\n",
       "      <td>+33.9439840</td>\n",
       "      <td>-083.2138965</td>\n",
       "      <td>POLYGON ((-83.36003 34.04057, -83.36757 34.043...</td>\n",
       "    </tr>\n",
       "    <tr>\n",
       "      <th>1</th>\n",
       "      <td>122</td>\n",
       "      <td>12060</td>\n",
       "      <td>12060</td>\n",
       "      <td>Atlanta-Sandy Springs-Alpharetta, GA</td>\n",
       "      <td>Atlanta-Sandy Springs-Alpharetta, GA Metro Area</td>\n",
       "      <td>M1</td>\n",
       "      <td>1</td>\n",
       "      <td>G3110</td>\n",
       "      <td>22495873026</td>\n",
       "      <td>386782308</td>\n",
       "      <td>+33.6937280</td>\n",
       "      <td>-084.3999113</td>\n",
       "      <td>POLYGON ((-84.27014 32.99101, -84.27084 32.991...</td>\n",
       "    </tr>\n",
       "    <tr>\n",
       "      <th>2</th>\n",
       "      <td>428</td>\n",
       "      <td>12100</td>\n",
       "      <td>12100</td>\n",
       "      <td>Atlantic City-Hammonton, NJ</td>\n",
       "      <td>Atlantic City-Hammonton, NJ Metro Area</td>\n",
       "      <td>M1</td>\n",
       "      <td>1</td>\n",
       "      <td>G3110</td>\n",
       "      <td>1438775279</td>\n",
       "      <td>301270067</td>\n",
       "      <td>+39.4693555</td>\n",
       "      <td>-074.6337591</td>\n",
       "      <td>POLYGON ((-74.58640 39.30989, -74.58665 39.309...</td>\n",
       "    </tr>\n",
       "    <tr>\n",
       "      <th>3</th>\n",
       "      <td>426</td>\n",
       "      <td>12120</td>\n",
       "      <td>12120</td>\n",
       "      <td>Atmore, AL</td>\n",
       "      <td>Atmore, AL Micro Area</td>\n",
       "      <td>M2</td>\n",
       "      <td>2</td>\n",
       "      <td>G3110</td>\n",
       "      <td>2448595161</td>\n",
       "      <td>20024887</td>\n",
       "      <td>+31.1222867</td>\n",
       "      <td>-087.1684097</td>\n",
       "      <td>POLYGON ((-87.36388 30.99790, -87.36391 30.997...</td>\n",
       "    </tr>\n",
       "    <tr>\n",
       "      <th>4</th>\n",
       "      <td>258</td>\n",
       "      <td>12140</td>\n",
       "      <td>12140</td>\n",
       "      <td>Auburn, IN</td>\n",
       "      <td>Auburn, IN Micro Area</td>\n",
       "      <td>M2</td>\n",
       "      <td>2</td>\n",
       "      <td>G3110</td>\n",
       "      <td>939731961</td>\n",
       "      <td>2657419</td>\n",
       "      <td>+41.3967596</td>\n",
       "      <td>-085.0026969</td>\n",
       "      <td>POLYGON ((-85.07780 41.26560, -85.07850 41.265...</td>\n",
       "    </tr>\n",
       "    <tr>\n",
       "      <th>...</th>\n",
       "      <td>...</td>\n",
       "      <td>...</td>\n",
       "      <td>...</td>\n",
       "      <td>...</td>\n",
       "      <td>...</td>\n",
       "      <td>...</td>\n",
       "      <td>...</td>\n",
       "      <td>...</td>\n",
       "      <td>...</td>\n",
       "      <td>...</td>\n",
       "      <td>...</td>\n",
       "      <td>...</td>\n",
       "      <td>...</td>\n",
       "    </tr>\n",
       "    <tr>\n",
       "      <th>934</th>\n",
       "      <td>None</td>\n",
       "      <td>49080</td>\n",
       "      <td>49080</td>\n",
       "      <td>Winnemucca, NV</td>\n",
       "      <td>Winnemucca, NV Micro Area</td>\n",
       "      <td>M2</td>\n",
       "      <td>2</td>\n",
       "      <td>G3110</td>\n",
       "      <td>24969535441</td>\n",
       "      <td>44194837</td>\n",
       "      <td>+41.4079136</td>\n",
       "      <td>-118.1275915</td>\n",
       "      <td>POLYGON ((-118.12404 41.99737, -118.12401 41.9...</td>\n",
       "    </tr>\n",
       "    <tr>\n",
       "      <th>935</th>\n",
       "      <td>None</td>\n",
       "      <td>49100</td>\n",
       "      <td>49100</td>\n",
       "      <td>Winona, MN</td>\n",
       "      <td>Winona, MN Micro Area</td>\n",
       "      <td>M2</td>\n",
       "      <td>2</td>\n",
       "      <td>G3110</td>\n",
       "      <td>1621791138</td>\n",
       "      <td>40051870</td>\n",
       "      <td>+43.9813526</td>\n",
       "      <td>-091.7770438</td>\n",
       "      <td>POLYGON ((-91.71976 43.84694, -91.71983 43.846...</td>\n",
       "    </tr>\n",
       "    <tr>\n",
       "      <th>936</th>\n",
       "      <td>268</td>\n",
       "      <td>49180</td>\n",
       "      <td>49180</td>\n",
       "      <td>Winston-Salem, NC</td>\n",
       "      <td>Winston-Salem, NC Metro Area</td>\n",
       "      <td>M1</td>\n",
       "      <td>1</td>\n",
       "      <td>G3110</td>\n",
       "      <td>5203328303</td>\n",
       "      <td>81529764</td>\n",
       "      <td>+36.0788515</td>\n",
       "      <td>-080.3450642</td>\n",
       "      <td>POLYGON ((-80.04324 36.01076, -80.04324 36.010...</td>\n",
       "    </tr>\n",
       "    <tr>\n",
       "      <th>937</th>\n",
       "      <td>554</td>\n",
       "      <td>49220</td>\n",
       "      <td>49220</td>\n",
       "      <td>Wisconsin Rapids-Marshfield, WI</td>\n",
       "      <td>Wisconsin Rapids-Marshfield, WI Micro Area</td>\n",
       "      <td>M2</td>\n",
       "      <td>2</td>\n",
       "      <td>G3110</td>\n",
       "      <td>2053959984</td>\n",
       "      <td>41993013</td>\n",
       "      <td>+44.4614126</td>\n",
       "      <td>-090.0388252</td>\n",
       "      <td>POLYGON ((-89.72592 44.42309, -89.72588 44.421...</td>\n",
       "    </tr>\n",
       "    <tr>\n",
       "      <th>938</th>\n",
       "      <td>258</td>\n",
       "      <td>14160</td>\n",
       "      <td>14160</td>\n",
       "      <td>Bluffton, IN</td>\n",
       "      <td>Bluffton, IN Micro Area</td>\n",
       "      <td>M2</td>\n",
       "      <td>2</td>\n",
       "      <td>G3110</td>\n",
       "      <td>953341275</td>\n",
       "      <td>5596377</td>\n",
       "      <td>+40.7352727</td>\n",
       "      <td>-085.2129742</td>\n",
       "      <td>POLYGON ((-85.22100 40.56725, -85.22342 40.567...</td>\n",
       "    </tr>\n",
       "  </tbody>\n",
       "</table>\n",
       "<p>939 rows × 13 columns</p>\n",
       "</div>"
      ],
      "text/plain": [
       "    CSAFP CBSAFP  GEOID                                  NAME  \\\n",
       "0     122  12020  12020              Athens-Clarke County, GA   \n",
       "1     122  12060  12060  Atlanta-Sandy Springs-Alpharetta, GA   \n",
       "2     428  12100  12100           Atlantic City-Hammonton, NJ   \n",
       "3     426  12120  12120                            Atmore, AL   \n",
       "4     258  12140  12140                            Auburn, IN   \n",
       "..    ...    ...    ...                                   ...   \n",
       "934  None  49080  49080                        Winnemucca, NV   \n",
       "935  None  49100  49100                            Winona, MN   \n",
       "936   268  49180  49180                     Winston-Salem, NC   \n",
       "937   554  49220  49220       Wisconsin Rapids-Marshfield, WI   \n",
       "938   258  14160  14160                          Bluffton, IN   \n",
       "\n",
       "                                            NAMELSAD LSAD MEMI  MTFCC  \\\n",
       "0                Athens-Clarke County, GA Metro Area   M1    1  G3110   \n",
       "1    Atlanta-Sandy Springs-Alpharetta, GA Metro Area   M1    1  G3110   \n",
       "2             Atlantic City-Hammonton, NJ Metro Area   M1    1  G3110   \n",
       "3                              Atmore, AL Micro Area   M2    2  G3110   \n",
       "4                              Auburn, IN Micro Area   M2    2  G3110   \n",
       "..                                               ...  ...  ...    ...   \n",
       "934                        Winnemucca, NV Micro Area   M2    2  G3110   \n",
       "935                            Winona, MN Micro Area   M2    2  G3110   \n",
       "936                     Winston-Salem, NC Metro Area   M1    1  G3110   \n",
       "937       Wisconsin Rapids-Marshfield, WI Micro Area   M2    2  G3110   \n",
       "938                          Bluffton, IN Micro Area   M2    2  G3110   \n",
       "\n",
       "           ALAND     AWATER     INTPTLAT      INTPTLON  \\\n",
       "0     2654607902   26109459  +33.9439840  -083.2138965   \n",
       "1    22495873026  386782308  +33.6937280  -084.3999113   \n",
       "2     1438775279  301270067  +39.4693555  -074.6337591   \n",
       "3     2448595161   20024887  +31.1222867  -087.1684097   \n",
       "4      939731961    2657419  +41.3967596  -085.0026969   \n",
       "..           ...        ...          ...           ...   \n",
       "934  24969535441   44194837  +41.4079136  -118.1275915   \n",
       "935   1621791138   40051870  +43.9813526  -091.7770438   \n",
       "936   5203328303   81529764  +36.0788515  -080.3450642   \n",
       "937   2053959984   41993013  +44.4614126  -090.0388252   \n",
       "938    953341275    5596377  +40.7352727  -085.2129742   \n",
       "\n",
       "                                              geometry  \n",
       "0    POLYGON ((-83.36003 34.04057, -83.36757 34.043...  \n",
       "1    POLYGON ((-84.27014 32.99101, -84.27084 32.991...  \n",
       "2    POLYGON ((-74.58640 39.30989, -74.58665 39.309...  \n",
       "3    POLYGON ((-87.36388 30.99790, -87.36391 30.997...  \n",
       "4    POLYGON ((-85.07780 41.26560, -85.07850 41.265...  \n",
       "..                                                 ...  \n",
       "934  POLYGON ((-118.12404 41.99737, -118.12401 41.9...  \n",
       "935  POLYGON ((-91.71976 43.84694, -91.71983 43.846...  \n",
       "936  POLYGON ((-80.04324 36.01076, -80.04324 36.010...  \n",
       "937  POLYGON ((-89.72592 44.42309, -89.72588 44.421...  \n",
       "938  POLYGON ((-85.22100 40.56725, -85.22342 40.567...  \n",
       "\n",
       "[939 rows x 13 columns]"
      ]
     },
     "execution_count": 33,
     "metadata": {},
     "output_type": "execute_result"
    }
   ],
   "source": [
    "msas"
   ]
  },
  {
   "cell_type": "markdown",
   "id": "f1b06cbf-9c81-43c2-97d5-b76803cc27a6",
   "metadata": {},
   "source": [
    "Could also read directly from  <https://www2.census.gov/programs-surveys/popest/tables/2010-2019/metro/totals/cbsa-met-est2019-annres.xlsx>"
   ]
  },
  {
   "cell_type": "code",
   "execution_count": 10,
   "id": "8f752ee1-15f7-4306-a721-8caf2422df57",
   "metadata": {
    "execution": {
     "iopub.execute_input": "2022-10-25T17:20:56.265228Z",
     "iopub.status.busy": "2022-10-25T17:20:56.264145Z",
     "iopub.status.idle": "2022-10-25T17:20:56.424985Z",
     "shell.execute_reply": "2022-10-25T17:20:56.424636Z",
     "shell.execute_reply.started": "2022-10-25T17:20:56.265194Z"
    },
    "tags": []
   },
   "outputs": [],
   "source": [
    "# population data at MSA level\n",
    "pops = pd.read_excel(\"../data/census/cbsa-met-est2019-annres.xlsx\", skiprows=3)"
   ]
  },
  {
   "cell_type": "code",
   "execution_count": 12,
   "id": "7c4494f7-3a78-4331-96b4-50552031c367",
   "metadata": {
    "execution": {
     "iopub.execute_input": "2022-10-25T17:21:24.443138Z",
     "iopub.status.busy": "2022-10-25T17:21:24.442692Z",
     "iopub.status.idle": "2022-10-25T17:21:24.466613Z",
     "shell.execute_reply": "2022-10-25T17:21:24.459525Z",
     "shell.execute_reply.started": "2022-10-25T17:21:24.443112Z"
    },
    "tags": []
   },
   "outputs": [],
   "source": [
    "pops = pops.rename(columns={'Unnamed: 0': 'name'})"
   ]
  },
  {
   "cell_type": "code",
   "execution_count": 19,
   "id": "410d0217-e36a-42c0-a749-94869ff11c66",
   "metadata": {
    "execution": {
     "iopub.execute_input": "2022-10-25T17:22:37.847631Z",
     "iopub.status.busy": "2022-10-25T17:22:37.847127Z",
     "iopub.status.idle": "2022-10-25T17:22:37.859578Z",
     "shell.execute_reply": "2022-10-25T17:22:37.858798Z",
     "shell.execute_reply.started": "2022-10-25T17:22:37.847603Z"
    },
    "tags": []
   },
   "outputs": [
    {
     "name": "stderr",
     "output_type": "stream",
     "text": [
      "/var/folders/79/cknfb1sx2pv16rztkpg6wzlw0000gn/T/ipykernel_28055/3438865337.py:1: FutureWarning: The default value of regex will change from True to False in a future version. In addition, single character regular expressions will *not* be treated as literal strings when regex=True.\n",
      "  pops.name = pops.name.str.replace('.', '')\n"
     ]
    }
   ],
   "source": [
    "pops.name = pops.name.str.replace('.', '')"
   ]
  },
  {
   "cell_type": "code",
   "execution_count": 22,
   "id": "534682a3-e153-4255-83f7-08f6430d2577",
   "metadata": {
    "execution": {
     "iopub.execute_input": "2022-10-25T17:23:33.079235Z",
     "iopub.status.busy": "2022-10-25T17:23:33.078808Z",
     "iopub.status.idle": "2022-10-25T17:23:33.093461Z",
     "shell.execute_reply": "2022-10-25T17:23:33.092440Z",
     "shell.execute_reply.started": "2022-10-25T17:23:33.079210Z"
    },
    "tags": []
   },
   "outputs": [],
   "source": [
    "msas = msas.merge(pops[['name', 2017]], left_on='NAMELSAD', right_on='name')"
   ]
  },
  {
   "cell_type": "code",
   "execution_count": 23,
   "id": "c5fd2f99-8524-4df7-a9a5-e0110494d357",
   "metadata": {
    "execution": {
     "iopub.execute_input": "2022-10-25T17:23:43.980260Z",
     "iopub.status.busy": "2022-10-25T17:23:43.979809Z",
     "iopub.status.idle": "2022-10-25T17:23:43.985044Z",
     "shell.execute_reply": "2022-10-25T17:23:43.984281Z",
     "shell.execute_reply.started": "2022-10-25T17:23:43.980232Z"
    }
   },
   "outputs": [],
   "source": [
    "# make sure the 2017 column is converted to string\n",
    "msas.columns = msas.columns.astype(str)"
   ]
  },
  {
   "cell_type": "code",
   "execution_count": 25,
   "id": "3762e4ec-c85d-48be-a61c-7e51fcc0ae42",
   "metadata": {
    "execution": {
     "iopub.execute_input": "2022-10-25T17:24:30.135990Z",
     "iopub.status.busy": "2022-10-25T17:24:30.135291Z",
     "iopub.status.idle": "2022-10-25T17:24:30.146864Z",
     "shell.execute_reply": "2022-10-25T17:24:30.145646Z",
     "shell.execute_reply.started": "2022-10-25T17:24:30.135941Z"
    },
    "tags": []
   },
   "outputs": [],
   "source": [
    "msas['pop_density'] = msas['2017']/msas['ALAND']"
   ]
  },
  {
   "cell_type": "code",
   "execution_count": 28,
   "id": "59bff202-256b-4794-8bb0-af7b0c8c40a1",
   "metadata": {
    "execution": {
     "iopub.execute_input": "2022-10-25T17:26:14.193148Z",
     "iopub.status.busy": "2022-10-25T17:26:14.192411Z",
     "iopub.status.idle": "2022-10-25T17:26:14.288945Z",
     "shell.execute_reply": "2022-10-25T17:26:14.210749Z",
     "shell.execute_reply.started": "2022-10-25T17:26:14.193092Z"
    },
    "tags": []
   },
   "outputs": [],
   "source": [
    "msas = msas[['GEOID', 'name', 'ALAND', 'AWATER', '2017', 'pop_density', 'geometry']]\n",
    "msas = msas.rename(columns={'2017': 'population'})"
   ]
  },
  {
   "cell_type": "code",
   "execution_count": 29,
   "id": "2dff0684-4af9-4cad-b524-5457c7e4c0fa",
   "metadata": {
    "execution": {
     "iopub.execute_input": "2022-10-25T17:26:16.388452Z",
     "iopub.status.busy": "2022-10-25T17:26:16.388042Z",
     "iopub.status.idle": "2022-10-25T17:26:16.595110Z",
     "shell.execute_reply": "2022-10-25T17:26:16.594735Z",
     "shell.execute_reply.started": "2022-10-25T17:26:16.388426Z"
    }
   },
   "outputs": [
    {
     "data": {
      "text/html": [
       "<div>\n",
       "<style scoped>\n",
       "    .dataframe tbody tr th:only-of-type {\n",
       "        vertical-align: middle;\n",
       "    }\n",
       "\n",
       "    .dataframe tbody tr th {\n",
       "        vertical-align: top;\n",
       "    }\n",
       "\n",
       "    .dataframe thead th {\n",
       "        text-align: right;\n",
       "    }\n",
       "</style>\n",
       "<table border=\"1\" class=\"dataframe\">\n",
       "  <thead>\n",
       "    <tr style=\"text-align: right;\">\n",
       "      <th></th>\n",
       "      <th>GEOID</th>\n",
       "      <th>name</th>\n",
       "      <th>ALAND</th>\n",
       "      <th>AWATER</th>\n",
       "      <th>population</th>\n",
       "      <th>pop_density</th>\n",
       "      <th>geometry</th>\n",
       "    </tr>\n",
       "  </thead>\n",
       "  <tbody>\n",
       "    <tr>\n",
       "      <th>0</th>\n",
       "      <td>12020</td>\n",
       "      <td>Athens-Clarke County, GA Metro Area</td>\n",
       "      <td>2654607902</td>\n",
       "      <td>26109459</td>\n",
       "      <td>209106.0</td>\n",
       "      <td>0.000079</td>\n",
       "      <td>POLYGON ((-83.36003 34.04057, -83.36757 34.043...</td>\n",
       "    </tr>\n",
       "    <tr>\n",
       "      <th>1</th>\n",
       "      <td>12060</td>\n",
       "      <td>Atlanta-Sandy Springs-Alpharetta, GA Metro Area</td>\n",
       "      <td>22495873026</td>\n",
       "      <td>386782308</td>\n",
       "      <td>5872432.0</td>\n",
       "      <td>0.000261</td>\n",
       "      <td>POLYGON ((-84.27014 32.99101, -84.27084 32.991...</td>\n",
       "    </tr>\n",
       "    <tr>\n",
       "      <th>2</th>\n",
       "      <td>12100</td>\n",
       "      <td>Atlantic City-Hammonton, NJ Metro Area</td>\n",
       "      <td>1438775279</td>\n",
       "      <td>301270067</td>\n",
       "      <td>265498.0</td>\n",
       "      <td>0.000185</td>\n",
       "      <td>POLYGON ((-74.58640 39.30989, -74.58665 39.309...</td>\n",
       "    </tr>\n",
       "    <tr>\n",
       "      <th>3</th>\n",
       "      <td>12220</td>\n",
       "      <td>Auburn-Opelika, AL Metro Area</td>\n",
       "      <td>1573526818</td>\n",
       "      <td>21516747</td>\n",
       "      <td>161440.0</td>\n",
       "      <td>0.000103</td>\n",
       "      <td>POLYGON ((-85.16535 32.47097, -85.16725 32.470...</td>\n",
       "    </tr>\n",
       "    <tr>\n",
       "      <th>4</th>\n",
       "      <td>12260</td>\n",
       "      <td>Augusta-Richmond County, GA-SC Metro Area</td>\n",
       "      <td>9015018014</td>\n",
       "      <td>262412034</td>\n",
       "      <td>600276.0</td>\n",
       "      <td>0.000067</td>\n",
       "      <td>POLYGON ((-81.65176 33.81451, -81.64701 33.818...</td>\n",
       "    </tr>\n",
       "    <tr>\n",
       "      <th>...</th>\n",
       "      <td>...</td>\n",
       "      <td>...</td>\n",
       "      <td>...</td>\n",
       "      <td>...</td>\n",
       "      <td>...</td>\n",
       "      <td>...</td>\n",
       "      <td>...</td>\n",
       "    </tr>\n",
       "    <tr>\n",
       "      <th>380</th>\n",
       "      <td>48660</td>\n",
       "      <td>Wichita Falls, TX Metro Area</td>\n",
       "      <td>6784839979</td>\n",
       "      <td>143918743</td>\n",
       "      <td>150956.0</td>\n",
       "      <td>0.000022</td>\n",
       "      <td>POLYGON ((-98.42142 33.46680, -98.42140 33.465...</td>\n",
       "    </tr>\n",
       "    <tr>\n",
       "      <th>381</th>\n",
       "      <td>48700</td>\n",
       "      <td>Williamsport, PA Metro Area</td>\n",
       "      <td>3182886778</td>\n",
       "      <td>38917581</td>\n",
       "      <td>114012.0</td>\n",
       "      <td>0.000036</td>\n",
       "      <td>POLYGON ((-76.96023 41.14880, -76.96126 41.145...</td>\n",
       "    </tr>\n",
       "    <tr>\n",
       "      <th>382</th>\n",
       "      <td>48900</td>\n",
       "      <td>Wilmington, NC Metro Area</td>\n",
       "      <td>2754582846</td>\n",
       "      <td>516637306</td>\n",
       "      <td>289447.0</td>\n",
       "      <td>0.000105</td>\n",
       "      <td>POLYGON ((-77.67528 34.25313, -77.68032 34.250...</td>\n",
       "    </tr>\n",
       "    <tr>\n",
       "      <th>383</th>\n",
       "      <td>49020</td>\n",
       "      <td>Winchester, VA-WV Metro Area</td>\n",
       "      <td>2752456889</td>\n",
       "      <td>16817754</td>\n",
       "      <td>138020.0</td>\n",
       "      <td>0.000050</td>\n",
       "      <td>POLYGON ((-78.34709 39.46601, -78.34704 39.465...</td>\n",
       "    </tr>\n",
       "    <tr>\n",
       "      <th>384</th>\n",
       "      <td>49180</td>\n",
       "      <td>Winston-Salem, NC Metro Area</td>\n",
       "      <td>5203328303</td>\n",
       "      <td>81529764</td>\n",
       "      <td>666640.0</td>\n",
       "      <td>0.000128</td>\n",
       "      <td>POLYGON ((-80.04324 36.01076, -80.04324 36.010...</td>\n",
       "    </tr>\n",
       "  </tbody>\n",
       "</table>\n",
       "<p>385 rows × 7 columns</p>\n",
       "</div>"
      ],
      "text/plain": [
       "     GEOID                                             name        ALAND  \\\n",
       "0    12020              Athens-Clarke County, GA Metro Area   2654607902   \n",
       "1    12060  Atlanta-Sandy Springs-Alpharetta, GA Metro Area  22495873026   \n",
       "2    12100           Atlantic City-Hammonton, NJ Metro Area   1438775279   \n",
       "3    12220                    Auburn-Opelika, AL Metro Area   1573526818   \n",
       "4    12260        Augusta-Richmond County, GA-SC Metro Area   9015018014   \n",
       "..     ...                                              ...          ...   \n",
       "380  48660                     Wichita Falls, TX Metro Area   6784839979   \n",
       "381  48700                      Williamsport, PA Metro Area   3182886778   \n",
       "382  48900                        Wilmington, NC Metro Area   2754582846   \n",
       "383  49020                     Winchester, VA-WV Metro Area   2752456889   \n",
       "384  49180                     Winston-Salem, NC Metro Area   5203328303   \n",
       "\n",
       "        AWATER  population  pop_density  \\\n",
       "0     26109459    209106.0     0.000079   \n",
       "1    386782308   5872432.0     0.000261   \n",
       "2    301270067    265498.0     0.000185   \n",
       "3     21516747    161440.0     0.000103   \n",
       "4    262412034    600276.0     0.000067   \n",
       "..         ...         ...          ...   \n",
       "380  143918743    150956.0     0.000022   \n",
       "381   38917581    114012.0     0.000036   \n",
       "382  516637306    289447.0     0.000105   \n",
       "383   16817754    138020.0     0.000050   \n",
       "384   81529764    666640.0     0.000128   \n",
       "\n",
       "                                              geometry  \n",
       "0    POLYGON ((-83.36003 34.04057, -83.36757 34.043...  \n",
       "1    POLYGON ((-84.27014 32.99101, -84.27084 32.991...  \n",
       "2    POLYGON ((-74.58640 39.30989, -74.58665 39.309...  \n",
       "3    POLYGON ((-85.16535 32.47097, -85.16725 32.470...  \n",
       "4    POLYGON ((-81.65176 33.81451, -81.64701 33.818...  \n",
       "..                                                 ...  \n",
       "380  POLYGON ((-98.42142 33.46680, -98.42140 33.465...  \n",
       "381  POLYGON ((-76.96023 41.14880, -76.96126 41.145...  \n",
       "382  POLYGON ((-77.67528 34.25313, -77.68032 34.250...  \n",
       "383  POLYGON ((-78.34709 39.46601, -78.34704 39.465...  \n",
       "384  POLYGON ((-80.04324 36.01076, -80.04324 36.010...  \n",
       "\n",
       "[385 rows x 7 columns]"
      ]
     },
     "execution_count": 29,
     "metadata": {},
     "output_type": "execute_result"
    }
   ],
   "source": [
    "msas"
   ]
  },
  {
   "cell_type": "code",
   "execution_count": 30,
   "id": "103519b9-660e-4ad0-8963-d0e235d0dd6c",
   "metadata": {
    "execution": {
     "iopub.execute_input": "2022-10-25T17:31:00.212738Z",
     "iopub.status.busy": "2022-10-25T17:31:00.212282Z",
     "iopub.status.idle": "2022-10-25T17:31:00.588179Z",
     "shell.execute_reply": "2022-10-25T17:31:00.587774Z",
     "shell.execute_reply.started": "2022-10-25T17:31:00.212712Z"
    }
   },
   "outputs": [],
   "source": [
    "msas.to_parquet(\"../data/census/msa_population.parquet\")"
   ]
  },
  {
   "cell_type": "code",
   "execution_count": 31,
   "id": "1bdaf831-9368-4046-9460-23e944811237",
   "metadata": {
    "execution": {
     "iopub.execute_input": "2022-10-25T17:31:18.813563Z",
     "iopub.status.busy": "2022-10-25T17:31:18.812977Z",
     "iopub.status.idle": "2022-10-25T17:31:18.851244Z",
     "shell.execute_reply": "2022-10-25T17:31:18.834143Z",
     "shell.execute_reply.started": "2022-10-25T17:31:18.813533Z"
    }
   },
   "outputs": [
    {
     "data": {
      "text/plain": [
       "<Geographic 2D CRS: EPSG:4269>\n",
       "Name: NAD83\n",
       "Axis Info [ellipsoidal]:\n",
       "- Lat[north]: Geodetic latitude (degree)\n",
       "- Lon[east]: Geodetic longitude (degree)\n",
       "Area of Use:\n",
       "- name: North America - onshore and offshore: Canada - Alberta; British Columbia; Manitoba; New Brunswick; Newfoundland and Labrador; Northwest Territories; Nova Scotia; Nunavut; Ontario; Prince Edward Island; Quebec; Saskatchewan; Yukon. Puerto Rico. United States (USA) - Alabama; Alaska; Arizona; Arkansas; California; Colorado; Connecticut; Delaware; Florida; Georgia; Hawaii; Idaho; Illinois; Indiana; Iowa; Kansas; Kentucky; Louisiana; Maine; Maryland; Massachusetts; Michigan; Minnesota; Mississippi; Missouri; Montana; Nebraska; Nevada; New Hampshire; New Jersey; New Mexico; New York; North Carolina; North Dakota; Ohio; Oklahoma; Oregon; Pennsylvania; Rhode Island; South Carolina; South Dakota; Tennessee; Texas; Utah; Vermont; Virginia; Washington; West Virginia; Wisconsin; Wyoming. US Virgin Islands. British Virgin Islands.\n",
       "- bounds: (167.65, 14.92, -40.73, 86.45)\n",
       "Datum: North American Datum 1983\n",
       "- Ellipsoid: GRS 1980\n",
       "- Prime Meridian: Greenwich"
      ]
     },
     "execution_count": 31,
     "metadata": {},
     "output_type": "execute_result"
    }
   ],
   "source": [
    "msas.crs"
   ]
  },
  {
   "cell_type": "code",
   "execution_count": null,
   "id": "fb518f6d-c7a4-4d75-8127-3eb6441e4fcc",
   "metadata": {},
   "outputs": [],
   "source": []
  }
 ],
 "metadata": {
  "kernelspec": {
   "display_name": "Python [conda env:seg_networks]",
   "language": "python",
   "name": "conda-env-seg_networks-py"
  },
  "language_info": {
   "codemirror_mode": {
    "name": "ipython",
    "version": 3
   },
   "file_extension": ".py",
   "mimetype": "text/x-python",
   "name": "python",
   "nbconvert_exporter": "python",
   "pygments_lexer": "ipython3",
   "version": "3.9.13"
  },
  "widgets": {
   "application/vnd.jupyter.widget-state+json": {
    "state": {},
    "version_major": 2,
    "version_minor": 0
   }
  }
 },
 "nbformat": 4,
 "nbformat_minor": 5
}
