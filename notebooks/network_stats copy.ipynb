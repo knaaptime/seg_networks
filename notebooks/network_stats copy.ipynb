{
 "cells": [
  {
   "cell_type": "code",
   "execution_count": 1,
   "id": "6f426af5-7897-4cad-8004-30112e5e39e2",
   "metadata": {
    "execution": {
     "iopub.execute_input": "2022-06-25T20:05:45.557658Z",
     "iopub.status.busy": "2022-06-25T20:05:45.557107Z",
     "iopub.status.idle": "2022-06-25T20:05:45.610993Z",
     "shell.execute_reply": "2022-06-25T20:05:45.610381Z",
     "shell.execute_reply.started": "2022-06-25T20:05:45.557563Z"
    }
   },
   "outputs": [],
   "source": [
    "%load_ext autoreload\n",
    "%autoreload 2"
   ]
  },
  {
   "cell_type": "code",
   "execution_count": 2,
   "id": "93c5b09a-ba20-49d3-a651-644efe62fe8e",
   "metadata": {
    "execution": {
     "iopub.execute_input": "2022-06-25T20:05:45.613151Z",
     "iopub.status.busy": "2022-06-25T20:05:45.612917Z",
     "iopub.status.idle": "2022-06-25T20:06:56.517089Z",
     "shell.execute_reply": "2022-06-25T20:06:56.515537Z",
     "shell.execute_reply.started": "2022-06-25T20:05:45.613132Z"
    },
    "tags": []
   },
   "outputs": [
    {
     "name": "stderr",
     "output_type": "stream",
     "text": [
      "OMP: Info #276: omp_set_nested routine deprecated, please use omp_set_max_active_levels instead.\n"
     ]
    }
   ],
   "source": [
    "import pandas as pd\n",
    "from geosnap import DataStore\n",
    "from seg_networks import generate_network_measures\n",
    "import os"
   ]
  },
  {
   "cell_type": "code",
   "execution_count": 3,
   "id": "e04636f5-6d72-42d2-98d5-f9aa30b1fbff",
   "metadata": {
    "execution": {
     "iopub.execute_input": "2022-06-25T20:06:56.519443Z",
     "iopub.status.busy": "2022-06-25T20:06:56.518541Z",
     "iopub.status.idle": "2022-06-25T20:06:56.626685Z",
     "shell.execute_reply": "2022-06-25T20:06:56.625635Z",
     "shell.execute_reply.started": "2022-06-25T20:06:56.519410Z"
    },
    "tags": []
   },
   "outputs": [],
   "source": [
    "from tqdm.auto import tqdm"
   ]
  },
  {
   "cell_type": "code",
   "execution_count": 4,
   "id": "860dca89-673e-4922-9adc-c2d6f033f7f3",
   "metadata": {
    "execution": {
     "iopub.execute_input": "2022-06-25T20:06:56.628263Z",
     "iopub.status.busy": "2022-06-25T20:06:56.627954Z",
     "iopub.status.idle": "2022-06-25T20:06:56.733571Z",
     "shell.execute_reply": "2022-06-25T20:06:56.732738Z",
     "shell.execute_reply.started": "2022-06-25T20:06:56.628242Z"
    }
   },
   "outputs": [],
   "source": [
    "datasets = DataStore()"
   ]
  },
  {
   "cell_type": "code",
   "execution_count": 8,
   "id": "a66cb516-b214-4ef7-9e12-058706ca72f7",
   "metadata": {
    "execution": {
     "iopub.execute_input": "2022-06-25T20:08:21.880186Z",
     "iopub.status.busy": "2022-06-25T20:08:21.879814Z",
     "iopub.status.idle": "2022-06-25T20:08:22.957815Z",
     "shell.execute_reply": "2022-06-25T20:08:22.939879Z",
     "shell.execute_reply.started": "2022-06-25T20:08:21.880158Z"
    },
    "tags": []
   },
   "outputs": [],
   "source": [
    "metros = datasets.msas()[datasets.msas()['type']=='Metro Area']\n",
    "metros = metros['geoid'].astype(str).tolist()"
   ]
  },
  {
   "cell_type": "code",
   "execution_count": 9,
   "id": "6785a281-1077-4382-9cb1-6d560014bd6a",
   "metadata": {
    "execution": {
     "iopub.execute_input": "2022-06-25T20:08:28.559774Z",
     "iopub.status.busy": "2022-06-25T20:08:28.559222Z",
     "iopub.status.idle": "2022-06-25T20:08:28.677818Z",
     "shell.execute_reply": "2022-06-25T20:08:28.676683Z",
     "shell.execute_reply.started": "2022-06-25T20:08:28.559749Z"
    }
   },
   "outputs": [],
   "source": [
    "metros.reverse()"
   ]
  },
  {
   "cell_type": "code",
   "execution_count": 12,
   "id": "37276544-356f-49ea-8ff0-482136498a8f",
   "metadata": {
    "execution": {
     "iopub.execute_input": "2022-06-25T20:09:00.960302Z",
     "iopub.status.busy": "2022-06-25T20:09:00.959940Z",
     "iopub.status.idle": "2022-06-25T23:39:46.721492Z",
     "shell.execute_reply": "2022-06-25T23:39:46.720419Z",
     "shell.execute_reply.started": "2022-06-25T20:09:00.960276Z"
    },
    "tags": []
   },
   "outputs": [
    {
     "data": {
      "application/vnd.jupyter.widget-view+json": {
       "model_id": "16953e25888648e39fb20fbafe025417",
       "version_major": 2,
       "version_minor": 0
      },
      "text/plain": [
       "  0%|          | 0/392 [00:00<?, ?it/s]"
      ]
     },
     "metadata": {},
     "output_type": "display_data"
    },
    {
     "name": "stdout",
     "output_type": "stream",
     "text": [
      "49500 failed with geosnap does not yet include built-in data for Puerto Rico\n",
      "47900 failed with [Errno 11] Resource deadlock avoided\n",
      "46700 failed with [Errno 11] Resource deadlock avoided\n",
      "46520 failed with [Errno 11] Resource deadlock avoided\n",
      "46140 failed with [Errno 11] Resource deadlock avoided: 'cache/5975046c8ccc9190aae780349883da2e56f1ff4f.json'\n",
      "41980 failed with geosnap does not yet include built-in data for Puerto Rico\n",
      "41900 failed with geosnap does not yet include built-in data for Puerto Rico\n",
      "38660 failed with geosnap does not yet include built-in data for Puerto Rico\n",
      "32420 failed with geosnap does not yet include built-in data for Puerto Rico\n",
      "25020 failed with geosnap does not yet include built-in data for Puerto Rico\n",
      "11640 failed with geosnap does not yet include built-in data for Puerto Rico\n",
      "10380 failed with geosnap does not yet include built-in data for Puerto Rico\n"
     ]
    }
   ],
   "source": [
    "failed = []\n",
    "with tqdm(total=len(metros)) as t:\n",
    "\n",
    "    for msa in metros:\n",
    "        if not os.path.exists(f\"../data/graphs/{msa}_graph.graphml\"):\n",
    "            t.set_description(f\"Fetching network for {msa}\")\n",
    "            try:\n",
    "                metrics = generate_network_measures(msa)\n",
    "                metrics.to_csv(f\"../data/{msa}_measures.csv\")\n",
    "            except Exception as e:\n",
    "                print(f\"{msa} failed with {e}\")\n",
    "                failed.append(msa)\n",
    "            else:\n",
    "                pass\n",
    "        t.update(1)"
   ]
  },
  {
   "cell_type": "code",
   "execution_count": null,
   "id": "d02bef92-4d6a-4a5c-ae8f-adee8c94062c",
   "metadata": {},
   "outputs": [],
   "source": []
  },
  {
   "cell_type": "code",
   "execution_count": null,
   "id": "32fb0895-cb2c-419c-ae4c-0d0df5652b5a",
   "metadata": {},
   "outputs": [],
   "source": []
  }
 ],
 "metadata": {
  "kernelspec": {
   "display_name": "Python [conda env:general-seg_networks]",
   "language": "python",
   "name": "conda-env-general-seg_networks-py"
  },
  "language_info": {
   "codemirror_mode": {
    "name": "ipython",
    "version": 3
   },
   "file_extension": ".py",
   "mimetype": "text/x-python",
   "name": "python",
   "nbconvert_exporter": "python",
   "pygments_lexer": "ipython3",
   "version": "3.9.13"
  },
  "vscode": {
   "interpreter": {
    "hash": "17a137746ddce7cc4299037840088f8de0ca3c5ada5f4bcf2803637e9c592e5b"
   }
  },
  "widgets": {
   "application/vnd.jupyter.widget-state+json": {
    "state": {},
    "version_major": 2,
    "version_minor": 0
   }
  }
 },
 "nbformat": 4,
 "nbformat_minor": 5
}
