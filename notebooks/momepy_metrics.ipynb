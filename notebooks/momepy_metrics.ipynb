{
 "cells": [
  {
   "cell_type": "code",
   "execution_count": 1,
   "id": "5e139b68-a13d-4c7b-923a-6270be505c80",
   "metadata": {
    "execution": {
     "iopub.execute_input": "2022-10-26T02:12:08.034272Z",
     "iopub.status.busy": "2022-10-26T02:12:08.033417Z",
     "iopub.status.idle": "2022-10-26T02:12:12.586737Z",
     "shell.execute_reply": "2022-10-26T02:12:12.586325Z",
     "shell.execute_reply.started": "2022-10-26T02:12:08.034166Z"
    },
    "tags": []
   },
   "outputs": [
    {
     "name": "stderr",
     "output_type": "stream",
     "text": [
      "/Users/knaaptime/Dropbox/projects/geosnap/geosnap/_data.py:66: UserWarning: The geosnap data storage class is provided for convenience only. The geosnap developers make no promises regarding data quality, consistency, or availability, nor are they responsible for any use/misuse of the data. The end-user is responsible for any and all analyses or applications created with the package.\n",
      "  warn(\n",
      "OMP: Info #276: omp_set_nested routine deprecated, please use omp_set_max_active_levels instead.\n"
     ]
    }
   ],
   "source": [
    "import os\n",
    "\n",
    "import pandas as pd\n",
    "from geosnap import DataStore\n",
    "from seg_networks import generate_momepy_metrics, generate_network_measures"
   ]
  },
  {
   "cell_type": "code",
   "execution_count": 2,
   "id": "0defffb1-b682-4583-9c21-d1bdec91afe8",
   "metadata": {
    "execution": {
     "iopub.execute_input": "2022-10-26T02:05:12.189198Z",
     "iopub.status.busy": "2022-10-26T02:05:12.188684Z",
     "iopub.status.idle": "2022-10-26T02:05:12.203801Z",
     "shell.execute_reply": "2022-10-26T02:05:12.202043Z",
     "shell.execute_reply.started": "2022-10-26T02:05:12.189168Z"
    },
    "tags": []
   },
   "outputs": [],
   "source": [
    "from geosnap import DataStore"
   ]
  },
  {
   "cell_type": "code",
   "execution_count": 9,
   "id": "559562dd-eae5-478b-ba1e-8440b26bad62",
   "metadata": {
    "execution": {
     "iopub.execute_input": "2022-10-26T02:25:16.306941Z",
     "iopub.status.busy": "2022-10-26T02:25:16.306530Z",
     "iopub.status.idle": "2022-10-26T02:25:16.313867Z",
     "shell.execute_reply": "2022-10-26T02:25:16.312978Z",
     "shell.execute_reply.started": "2022-10-26T02:25:16.306915Z"
    },
    "tags": []
   },
   "outputs": [],
   "source": [
    "from tqdm.auto import tqdm"
   ]
  },
  {
   "cell_type": "code",
   "execution_count": 7,
   "id": "4c9541df-4b87-4c1f-8386-66a8f9e6cd5f",
   "metadata": {
    "execution": {
     "iopub.execute_input": "2022-10-26T02:25:13.502261Z",
     "iopub.status.busy": "2022-10-26T02:25:13.501787Z",
     "iopub.status.idle": "2022-10-26T02:25:13.514246Z",
     "shell.execute_reply": "2022-10-26T02:25:13.512769Z",
     "shell.execute_reply.started": "2022-10-26T02:25:13.502235Z"
    },
    "tags": []
   },
   "outputs": [
    {
     "name": "stderr",
     "output_type": "stream",
     "text": [
      "/Users/knaaptime/Dropbox/projects/geosnap/geosnap/_data.py:66: UserWarning: The geosnap data storage class is provided for convenience only. The geosnap developers make no promises regarding data quality, consistency, or availability, nor are they responsible for any use/misuse of the data. The end-user is responsible for any and all analyses or applications created with the package.\n",
      "  warn(\n"
     ]
    }
   ],
   "source": [
    "datasets = DataStore()"
   ]
  },
  {
   "cell_type": "code",
   "execution_count": 8,
   "id": "7db1e9a0-7828-4aa6-8968-82190b33de42",
   "metadata": {
    "execution": {
     "iopub.execute_input": "2022-10-26T02:25:14.486080Z",
     "iopub.status.busy": "2022-10-26T02:25:14.485649Z",
     "iopub.status.idle": "2022-10-26T02:25:15.194256Z",
     "shell.execute_reply": "2022-10-26T02:25:15.193585Z",
     "shell.execute_reply.started": "2022-10-26T02:25:14.486054Z"
    },
    "tags": []
   },
   "outputs": [],
   "source": [
    "metros = datasets.msas()[datasets.msas()[\"type\"] == \"Metro Area\"]"
   ]
  },
  {
   "cell_type": "markdown",
   "id": "5962a692-2098-47ba-9a57-6d2262f845ac",
   "metadata": {},
   "source": [
    "## Loop over metros and compute network topology metrics"
   ]
  },
  {
   "cell_type": "code",
   "execution_count": 10,
   "id": "eb86bbcf-2c3d-4327-8d75-8bd0b0eb97d3",
   "metadata": {
    "execution": {
     "iopub.execute_input": "2022-10-26T02:25:37.263186Z",
     "iopub.status.busy": "2022-10-26T02:25:37.262525Z",
     "iopub.status.idle": "2022-10-26T05:19:54.444645Z",
     "shell.execute_reply": "2022-10-26T05:19:54.443913Z",
     "shell.execute_reply.started": "2022-10-26T02:25:37.263159Z"
    },
    "tags": []
   },
   "outputs": [
    {
     "data": {
      "application/vnd.jupyter.widget-view+json": {
       "model_id": "10ef9eaef6ea47ae9a709b5aa00e0b46",
       "version_major": 2,
       "version_minor": 0
      },
      "text/plain": [
       "  0%|          | 0/392 [00:00<?, ?it/s]"
      ]
     },
     "metadata": {},
     "output_type": "display_data"
    },
    {
     "name": "stdout",
     "output_type": "stream",
     "text": [
      "10380 failed with [Errno 2] No such file or directory: '../data/graphs/10380_graph.graphml'\n",
      "11640 failed with [Errno 2] No such file or directory: '../data/graphs/11640_graph.graphml'\n",
      "25020 failed with [Errno 2] No such file or directory: '../data/graphs/25020_graph.graphml'\n",
      "32420 failed with [Errno 2] No such file or directory: '../data/graphs/32420_graph.graphml'\n",
      "38660 failed with [Errno 2] No such file or directory: '../data/graphs/38660_graph.graphml'\n",
      "41900 failed with [Errno 2] No such file or directory: '../data/graphs/41900_graph.graphml'\n",
      "41980 failed with [Errno 2] No such file or directory: '../data/graphs/41980_graph.graphml'\n",
      "49500 failed with [Errno 2] No such file or directory: '../data/graphs/49500_graph.graphml'\n"
     ]
    }
   ],
   "source": [
    "failed = []\n",
    "with tqdm(total=metros.shape[0]) as t:\n",
    "\n",
    "    for msa in metros[\"geoid\"].astype(str).tolist():\n",
    "        try:\n",
    "            metrics = generate_momepy_metrics(msa)\n",
    "            metrics.to_csv(f\"../data/momepy/{msa}_momepy_measures.csv\")\n",
    "        except Exception as e:\n",
    "            print(f\"{msa} failed with {e}\")\n",
    "            failed.append(msa)\n",
    "\n",
    "        t.update(1)"
   ]
  },
  {
   "cell_type": "code",
   "execution_count": 4,
   "id": "bd000ba9-9ee7-4e8f-97ea-1f988e73af12",
   "metadata": {
    "execution": {
     "iopub.execute_input": "2022-10-26T02:12:12.659065Z",
     "iopub.status.busy": "2022-10-26T02:12:12.658830Z",
     "iopub.status.idle": "2022-10-26T02:13:47.615209Z",
     "shell.execute_reply": "2022-10-26T02:13:47.614862Z",
     "shell.execute_reply.started": "2022-10-26T02:12:12.659044Z"
    },
    "tags": []
   },
   "outputs": [],
   "source": [
    "d = generate_momepy_metrics(12580)"
   ]
  },
  {
   "cell_type": "code",
   "execution_count": 11,
   "id": "db02b43f-8ff2-4c6d-bda1-554ae8746240",
   "metadata": {
    "execution": {
     "iopub.execute_input": "2022-10-26T14:38:55.141281Z",
     "iopub.status.busy": "2022-10-26T14:38:55.120125Z",
     "iopub.status.idle": "2022-10-26T14:38:55.789551Z",
     "shell.execute_reply": "2022-10-26T14:38:55.774621Z",
     "shell.execute_reply.started": "2022-10-26T14:38:55.140542Z"
    },
    "tags": []
   },
   "outputs": [
    {
     "data": {
      "text/html": [
       "<div>\n",
       "<style scoped>\n",
       "    .dataframe tbody tr th:only-of-type {\n",
       "        vertical-align: middle;\n",
       "    }\n",
       "\n",
       "    .dataframe tbody tr th {\n",
       "        vertical-align: top;\n",
       "    }\n",
       "\n",
       "    .dataframe thead th {\n",
       "        text-align: right;\n",
       "    }\n",
       "</style>\n",
       "<table border=\"1\" class=\"dataframe\">\n",
       "  <thead>\n",
       "    <tr style=\"text-align: right;\">\n",
       "      <th></th>\n",
       "      <th>cyclomatic</th>\n",
       "      <th>meshedness</th>\n",
       "      <th>gamma</th>\n",
       "    </tr>\n",
       "  </thead>\n",
       "  <tbody>\n",
       "    <tr>\n",
       "      <th>12580</th>\n",
       "      <td>624373.0</td>\n",
       "      <td>0.824195</td>\n",
       "      <td>0.882797</td>\n",
       "    </tr>\n",
       "  </tbody>\n",
       "</table>\n",
       "</div>"
      ],
      "text/plain": [
       "       cyclomatic  meshedness     gamma\n",
       "12580    624373.0    0.824195  0.882797"
      ]
     },
     "execution_count": 11,
     "metadata": {},
     "output_type": "execute_result"
    }
   ],
   "source": [
    "d.T"
   ]
  },
  {
   "cell_type": "code",
   "execution_count": null,
   "id": "c4712694-a6c2-49cc-8b8d-6df06d5e8772",
   "metadata": {},
   "outputs": [],
   "source": []
  }
 ],
 "metadata": {
  "kernelspec": {
   "display_name": "Python [conda env:seg_networks]",
   "language": "python",
   "name": "conda-env-seg_networks-py"
  },
  "language_info": {
   "codemirror_mode": {
    "name": "ipython",
    "version": 3
   },
   "file_extension": ".py",
   "mimetype": "text/x-python",
   "name": "python",
   "nbconvert_exporter": "python",
   "pygments_lexer": "ipython3",
   "version": "3.9.13"
  },
  "widgets": {
   "application/vnd.jupyter.widget-state+json": {
    "state": {
     "10ef9eaef6ea47ae9a709b5aa00e0b46": {
      "model_module": "@jupyter-widgets/controls",
      "model_module_version": "1.5.0",
      "model_name": "HBoxModel",
      "state": {
       "children": [
        "IPY_MODEL_37114561faaf45d2b08393dd01f6b8aa",
        "IPY_MODEL_90543e2e794b48d89208ac485d09653d",
        "IPY_MODEL_6f0d57b8aa75441ab6119a32f3e2cae0"
       ],
       "layout": "IPY_MODEL_fe35453d592347f0af1875384ece3c31"
      }
     },
     "15ca6ecd709b453a9f7ba1ea616100b7": {
      "model_module": "@jupyter-widgets/controls",
      "model_module_version": "1.5.0",
      "model_name": "DescriptionStyleModel",
      "state": {
       "description_width": ""
      }
     },
     "2208155388264c5f99b35baf3c61fc0c": {
      "model_module": "@jupyter-widgets/controls",
      "model_module_version": "1.5.0",
      "model_name": "DescriptionStyleModel",
      "state": {
       "description_width": ""
      }
     },
     "37114561faaf45d2b08393dd01f6b8aa": {
      "model_module": "@jupyter-widgets/controls",
      "model_module_version": "1.5.0",
      "model_name": "HTMLModel",
      "state": {
       "layout": "IPY_MODEL_959eb8d9e178429e80902b0eb2635486",
       "style": "IPY_MODEL_15ca6ecd709b453a9f7ba1ea616100b7",
       "value": "100%"
      }
     },
     "6251d4e615674b15bacac71eb4b99b95": {
      "model_module": "@jupyter-widgets/base",
      "model_module_version": "1.2.0",
      "model_name": "LayoutModel",
      "state": {}
     },
     "6b69a2bcd6ec496ebf5714be03808c58": {
      "model_module": "@jupyter-widgets/base",
      "model_module_version": "1.2.0",
      "model_name": "LayoutModel",
      "state": {}
     },
     "6f0d57b8aa75441ab6119a32f3e2cae0": {
      "model_module": "@jupyter-widgets/controls",
      "model_module_version": "1.5.0",
      "model_name": "HTMLModel",
      "state": {
       "layout": "IPY_MODEL_6251d4e615674b15bacac71eb4b99b95",
       "style": "IPY_MODEL_2208155388264c5f99b35baf3c61fc0c",
       "value": " 392/392 [2:54:17&lt;00:00, 12.79s/it]"
      }
     },
     "90543e2e794b48d89208ac485d09653d": {
      "model_module": "@jupyter-widgets/controls",
      "model_module_version": "1.5.0",
      "model_name": "FloatProgressModel",
      "state": {
       "bar_style": "success",
       "layout": "IPY_MODEL_6b69a2bcd6ec496ebf5714be03808c58",
       "max": 392,
       "style": "IPY_MODEL_fe5daa70e87442218e74daaedadc6267",
       "value": 392
      }
     },
     "959eb8d9e178429e80902b0eb2635486": {
      "model_module": "@jupyter-widgets/base",
      "model_module_version": "1.2.0",
      "model_name": "LayoutModel",
      "state": {}
     },
     "fe35453d592347f0af1875384ece3c31": {
      "model_module": "@jupyter-widgets/base",
      "model_module_version": "1.2.0",
      "model_name": "LayoutModel",
      "state": {}
     },
     "fe5daa70e87442218e74daaedadc6267": {
      "model_module": "@jupyter-widgets/controls",
      "model_module_version": "1.5.0",
      "model_name": "ProgressStyleModel",
      "state": {
       "description_width": ""
      }
     }
    },
    "version_major": 2,
    "version_minor": 0
   }
  }
 },
 "nbformat": 4,
 "nbformat_minor": 5
}
