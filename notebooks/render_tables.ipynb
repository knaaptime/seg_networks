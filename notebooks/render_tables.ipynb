{
 "cells": [
  {
   "cell_type": "code",
   "execution_count": 1,
   "id": "39435443-9ef8-4893-ac46-adb993b1b15c",
   "metadata": {
    "execution": {
     "iopub.execute_input": "2023-06-23T06:09:08.368935Z",
     "iopub.status.busy": "2023-06-23T06:09:08.368829Z",
     "iopub.status.idle": "2023-06-23T06:09:08.823503Z",
     "shell.execute_reply": "2023-06-23T06:09:08.823083Z",
     "shell.execute_reply.started": "2023-06-23T06:09:08.368925Z"
    },
    "tags": []
   },
   "outputs": [],
   "source": [
    "import pandas as pd"
   ]
  },
  {
   "cell_type": "code",
   "execution_count": 2,
   "id": "5257d3a2-1cb3-4324-bd7f-efbe23ace9c7",
   "metadata": {
    "execution": {
     "iopub.execute_input": "2023-06-23T06:09:08.824896Z",
     "iopub.status.busy": "2023-06-23T06:09:08.824763Z",
     "iopub.status.idle": "2023-06-23T06:09:08.828903Z",
     "shell.execute_reply": "2023-06-23T06:09:08.828530Z",
     "shell.execute_reply.started": "2023-06-23T06:09:08.824886Z"
    },
    "tags": []
   },
   "outputs": [],
   "source": [
    "pd.set_option('display.max_colwidth', None)"
   ]
  },
  {
   "cell_type": "code",
   "execution_count": 15,
   "id": "1c781973-63cc-4f4a-9203-7098bbb04797",
   "metadata": {
    "execution": {
     "iopub.execute_input": "2023-06-23T06:23:41.403474Z",
     "iopub.status.busy": "2023-06-23T06:23:41.402999Z",
     "iopub.status.idle": "2023-06-23T06:23:41.445259Z",
     "shell.execute_reply": "2023-06-23T06:23:41.443881Z",
     "shell.execute_reply.started": "2023-06-23T06:23:41.403436Z"
    },
    "tags": []
   },
   "outputs": [],
   "source": [
    "var_desc = pd.read_csv(\"../data/network_variables.csv\")"
   ]
  },
  {
   "cell_type": "code",
   "execution_count": 16,
   "id": "9802b847-944e-4689-8d59-b7c91b091412",
   "metadata": {
    "execution": {
     "iopub.execute_input": "2023-06-23T06:23:41.683270Z",
     "iopub.status.busy": "2023-06-23T06:23:41.671350Z",
     "iopub.status.idle": "2023-06-23T06:23:41.696936Z",
     "shell.execute_reply": "2023-06-23T06:23:41.696264Z",
     "shell.execute_reply.started": "2023-06-23T06:23:41.683203Z"
    },
    "tags": []
   },
   "outputs": [],
   "source": [
    "var_desc['variable'] = var_desc['variable'].str.replace('_', '-')"
   ]
  },
  {
   "cell_type": "code",
   "execution_count": 17,
   "id": "b39e6c6a-6ea3-442f-a88c-d4e666be43f6",
   "metadata": {
    "execution": {
     "iopub.execute_input": "2023-06-23T06:23:41.908204Z",
     "iopub.status.busy": "2023-06-23T06:23:41.905655Z",
     "iopub.status.idle": "2023-06-23T06:23:41.944547Z",
     "shell.execute_reply": "2023-06-23T06:23:41.943861Z",
     "shell.execute_reply.started": "2023-06-23T06:23:41.908128Z"
    },
    "tags": []
   },
   "outputs": [
    {
     "name": "stderr",
     "output_type": "stream",
     "text": [
      "/var/folders/79/cknfb1sx2pv16rztkpg6wzlw0000gn/T/ipykernel_64262/539942321.py:1: FutureWarning: In future versions `DataFrame.to_latex` is expected to utilise the base implementation of `Styler.to_latex` for formatting and rendering. The arguments signature may therefore change. It is recommended instead to use `DataFrame.style.to_latex` which also contains additional functionality.\n",
      "  var_desc.to_latex(\n"
     ]
    }
   ],
   "source": [
    "var_desc.to_latex(\n",
    "    \"../paper/tables/variables_test.md\",\n",
    "    longtable=True,\n",
    "    escape=False,\n",
    "    index=False,\n",
    "    bold_rows=True,\n",
    "    caption=\"Network Topology Metrics\",\n",
    "    label=\"tbl:variables\",\n",
    "    columns=[\"variable\", \"description\", 'formula'],\n",
    "    column_format='l|p{6cm}|c'\n",
    ")"
   ]
  },
  {
   "cell_type": "code",
   "execution_count": 18,
   "id": "38ecac9f-f363-4aca-8b06-4e68cef7fa4e",
   "metadata": {
    "execution": {
     "iopub.execute_input": "2023-06-23T06:23:42.812182Z",
     "iopub.status.busy": "2023-06-23T06:23:42.811783Z",
     "iopub.status.idle": "2023-06-23T06:23:42.827555Z",
     "shell.execute_reply": "2023-06-23T06:23:42.826828Z",
     "shell.execute_reply.started": "2023-06-23T06:23:42.812157Z"
    },
    "tags": []
   },
   "outputs": [
    {
     "data": {
      "text/html": [
       "<div>\n",
       "<style scoped>\n",
       "    .dataframe tbody tr th:only-of-type {\n",
       "        vertical-align: middle;\n",
       "    }\n",
       "\n",
       "    .dataframe tbody tr th {\n",
       "        vertical-align: top;\n",
       "    }\n",
       "\n",
       "    .dataframe thead th {\n",
       "        text-align: right;\n",
       "    }\n",
       "</style>\n",
       "<table border=\"1\" class=\"dataframe\">\n",
       "  <thead>\n",
       "    <tr style=\"text-align: right;\">\n",
       "      <th></th>\n",
       "      <th>variable</th>\n",
       "      <th>category</th>\n",
       "      <th>description</th>\n",
       "      <th>formula</th>\n",
       "    </tr>\n",
       "  </thead>\n",
       "  <tbody>\n",
       "    <tr>\n",
       "      <th>0</th>\n",
       "      <td>street-segment-count</td>\n",
       "      <td>edge</td>\n",
       "      <td>Count of street segments in graph</td>\n",
       "      <td>$n_e$</td>\n",
       "    </tr>\n",
       "    <tr>\n",
       "      <th>1</th>\n",
       "      <td>intersection-count</td>\n",
       "      <td>node</td>\n",
       "      <td>Total Intersections in the graph</td>\n",
       "      <td>$n_v$</td>\n",
       "    </tr>\n",
       "    <tr>\n",
       "      <th>2</th>\n",
       "      <td>streets-per-node-avg</td>\n",
       "      <td>edge</td>\n",
       "      <td>Average streets per node</td>\n",
       "      <td>$\\frac{n_e}{n_v}$</td>\n",
       "    </tr>\n",
       "    <tr>\n",
       "      <th>3</th>\n",
       "      <td>street-length-total</td>\n",
       "      <td>edge</td>\n",
       "      <td>Total length (meters) of streets in graph</td>\n",
       "      <td>$\\sum^E{\\operatorname{length}(e)}$</td>\n",
       "    </tr>\n",
       "    <tr>\n",
       "      <th>4</th>\n",
       "      <td>street-length-avg</td>\n",
       "      <td>edge</td>\n",
       "      <td>Average  street length</td>\n",
       "      <td>$\\sum^e{\\operatorname{length}_e}  \\left(\\frac{1}{n_e}\\right)$</td>\n",
       "    </tr>\n",
       "    <tr>\n",
       "      <th>5</th>\n",
       "      <td>street-density-km</td>\n",
       "      <td>edge</td>\n",
       "      <td>Street density (per km)</td>\n",
       "      <td>$\\frac{n_e}{\\sum{\\operatorname{sqmi}_r}}$</td>\n",
       "    </tr>\n",
       "    <tr>\n",
       "      <th>6</th>\n",
       "      <td>self-loop-proportion</td>\n",
       "      <td>edge</td>\n",
       "      <td>Proportion of edges where node u to node v where u equals v</td>\n",
       "      <td>$  \\vert E_{\\mathrm{self}} \\vert \\left( \\frac{1}{n_e} \\right) ,\\;  E_{\\mathrm{self}}= \\{e\\in E \\mid e_{uv}=e_{vu}\\}$</td>\n",
       "    </tr>\n",
       "    <tr>\n",
       "      <th>7</th>\n",
       "      <td>circuity-avg</td>\n",
       "      <td>edge</td>\n",
       "      <td>Ratio of edge lengths to straight-line distances between edge endpoints</td>\n",
       "      <td>$\\frac{ \\sum^E{\\operatorname{length}(e_{uv}) }}{\\sum^E{\\operatorname{distance}(e_u, e_v)}}$</td>\n",
       "    </tr>\n",
       "    <tr>\n",
       "      <th>8</th>\n",
       "      <td>intersection-density-km</td>\n",
       "      <td>node</td>\n",
       "      <td>Total Intersections per km</td>\n",
       "      <td>$\\frac{n_v}{\\sum{\\operatorname{sqmi}_r}}$</td>\n",
       "    </tr>\n",
       "    <tr>\n",
       "      <th>9</th>\n",
       "      <td>k-avg</td>\n",
       "      <td>network</td>\n",
       "      <td>Average node degree</td>\n",
       "      <td>$ \\sum^V{\\deg(v)} (\\frac{1}{n_v})$</td>\n",
       "    </tr>\n",
       "    <tr>\n",
       "      <th>10</th>\n",
       "      <td>node-props-dead-end</td>\n",
       "      <td>network</td>\n",
       "      <td>Proportion of nodes ending in dead end</td>\n",
       "      <td>$ \\vert V_2 \\vert \\left( \\frac{ 1}{n_v} \\right) ,\\;  V_2= \\{v\\in V \\mid \\deg(v)=2 \\}$</td>\n",
       "    </tr>\n",
       "    <tr>\n",
       "      <th>11</th>\n",
       "      <td>node-props-3way</td>\n",
       "      <td>network</td>\n",
       "      <td>Proprotion of 3-way intersections</td>\n",
       "      <td>$ \\vert V_3 \\vert  \\left(\\frac{1}{n_v} \\right),\\;  V_3= \\{v\\in V \\mid \\deg(v)=3 \\}$</td>\n",
       "    </tr>\n",
       "    <tr>\n",
       "      <th>12</th>\n",
       "      <td>node-props-4way</td>\n",
       "      <td>network</td>\n",
       "      <td>Proportion of 4-way intersections</td>\n",
       "      <td>$  \\vert V_4 \\vert \\left(\\frac{1 }{n_v} \\right),\\;  V_4= \\{v\\in V \\mid \\deg(v)=4 \\}$</td>\n",
       "    </tr>\n",
       "    <tr>\n",
       "      <th>13</th>\n",
       "      <td>cyclomatic</td>\n",
       "      <td>network</td>\n",
       "      <td>Number of primary loops in the network.</td>\n",
       "      <td>$e-v+1$</td>\n",
       "    </tr>\n",
       "    <tr>\n",
       "      <th>14</th>\n",
       "      <td>meshedness</td>\n",
       "      <td>network</td>\n",
       "      <td>Ratio of faces in the network to the max possible loops in an equivalent network</td>\n",
       "      <td>$\\frac{e-v+1}{2v-5}$</td>\n",
       "    </tr>\n",
       "    <tr>\n",
       "      <th>15</th>\n",
       "      <td>gamma</td>\n",
       "      <td>network</td>\n",
       "      <td>Number of edges divided divided by 3 times (nodes minus 2)</td>\n",
       "      <td>$\\frac{e}{3(v-2)} $</td>\n",
       "    </tr>\n",
       "    <tr>\n",
       "      <th>16</th>\n",
       "      <td>edge-node-ratio</td>\n",
       "      <td>network</td>\n",
       "      <td>Ratio of streets to intersections</td>\n",
       "      <td>$\\frac{n_e}{n_v}$</td>\n",
       "    </tr>\n",
       "  </tbody>\n",
       "</table>\n",
       "</div>"
      ],
      "text/plain": [
       "                   variable category  \\\n",
       "0      street-segment-count     edge   \n",
       "1        intersection-count     node   \n",
       "2      streets-per-node-avg     edge   \n",
       "3       street-length-total     edge   \n",
       "4         street-length-avg     edge   \n",
       "5         street-density-km     edge   \n",
       "6      self-loop-proportion     edge   \n",
       "7              circuity-avg     edge   \n",
       "8   intersection-density-km     node   \n",
       "9                     k-avg  network   \n",
       "10      node-props-dead-end  network   \n",
       "11          node-props-3way  network   \n",
       "12          node-props-4way  network   \n",
       "13               cyclomatic  network   \n",
       "14               meshedness  network   \n",
       "15                    gamma  network   \n",
       "16          edge-node-ratio  network   \n",
       "\n",
       "                                                                         description  \\\n",
       "0                                                  Count of street segments in graph   \n",
       "1                                                   Total Intersections in the graph   \n",
       "2                                                           Average streets per node   \n",
       "3                                          Total length (meters) of streets in graph   \n",
       "4                                                             Average  street length   \n",
       "5                                                            Street density (per km)   \n",
       "6                        Proportion of edges where node u to node v where u equals v   \n",
       "7            Ratio of edge lengths to straight-line distances between edge endpoints   \n",
       "8                                                         Total Intersections per km   \n",
       "9                                                                Average node degree   \n",
       "10                                            Proportion of nodes ending in dead end   \n",
       "11                                                 Proprotion of 3-way intersections   \n",
       "12                                                 Proportion of 4-way intersections   \n",
       "13                                           Number of primary loops in the network.   \n",
       "14  Ratio of faces in the network to the max possible loops in an equivalent network   \n",
       "15                       Number of edges divided divided by 3 times (nodes minus 2)    \n",
       "16                                                 Ratio of streets to intersections   \n",
       "\n",
       "                                                                                                                 formula  \n",
       "0                                                                                                                  $n_e$  \n",
       "1                                                                                                                  $n_v$  \n",
       "2                                                                                                      $\\frac{n_e}{n_v}$  \n",
       "3                                                                                     $\\sum^E{\\operatorname{length}(e)}$  \n",
       "4                                                          $\\sum^e{\\operatorname{length}_e}  \\left(\\frac{1}{n_e}\\right)$  \n",
       "5                                                                              $\\frac{n_e}{\\sum{\\operatorname{sqmi}_r}}$  \n",
       "6   $  \\vert E_{\\mathrm{self}} \\vert \\left( \\frac{1}{n_e} \\right) ,\\;  E_{\\mathrm{self}}= \\{e\\in E \\mid e_{uv}=e_{vu}\\}$  \n",
       "7                            $\\frac{ \\sum^E{\\operatorname{length}(e_{uv}) }}{\\sum^E{\\operatorname{distance}(e_u, e_v)}}$  \n",
       "8                                                                              $\\frac{n_v}{\\sum{\\operatorname{sqmi}_r}}$  \n",
       "9                                                                                     $ \\sum^V{\\deg(v)} (\\frac{1}{n_v})$  \n",
       "10                                 $ \\vert V_2 \\vert \\left( \\frac{ 1}{n_v} \\right) ,\\;  V_2= \\{v\\in V \\mid \\deg(v)=2 \\}$  \n",
       "11                                   $ \\vert V_3 \\vert  \\left(\\frac{1}{n_v} \\right),\\;  V_3= \\{v\\in V \\mid \\deg(v)=3 \\}$  \n",
       "12                                  $  \\vert V_4 \\vert \\left(\\frac{1 }{n_v} \\right),\\;  V_4= \\{v\\in V \\mid \\deg(v)=4 \\}$  \n",
       "13                                                                                                               $e-v+1$  \n",
       "14                                                                                                  $\\frac{e-v+1}{2v-5}$  \n",
       "15                                                                                                   $\\frac{e}{3(v-2)} $  \n",
       "16                                                                                                     $\\frac{n_e}{n_v}$  "
      ]
     },
     "execution_count": 18,
     "metadata": {},
     "output_type": "execute_result"
    }
   ],
   "source": [
    "var_desc"
   ]
  },
  {
   "cell_type": "code",
   "execution_count": null,
   "id": "f55a145d-d8b2-4deb-890a-122d81e526ff",
   "metadata": {},
   "outputs": [],
   "source": []
  }
 ],
 "metadata": {
  "kernelspec": {
   "display_name": "Python [conda env:seg_networks]",
   "language": "python",
   "name": "conda-env-seg_networks-py"
  },
  "language_info": {
   "codemirror_mode": {
    "name": "ipython",
    "version": 3
   },
   "file_extension": ".py",
   "mimetype": "text/x-python",
   "name": "python",
   "nbconvert_exporter": "python",
   "pygments_lexer": "ipython3",
   "version": "3.9.16"
  },
  "widgets": {
   "application/vnd.jupyter.widget-state+json": {
    "state": {},
    "version_major": 2,
    "version_minor": 0
   }
  }
 },
 "nbformat": 4,
 "nbformat_minor": 5
}
